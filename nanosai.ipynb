{
 "cells": [
  {
   "cell_type": "markdown",
   "metadata": {},
   "source": [
    "THIS FILE SHOULD BE RUN ON YOUR LOCAL(JUPYTER NOTEBOOK)"
   ]
  },
  {
   "cell_type": "markdown",
   "metadata": {},
   "source": [
    "Extracting all text by using selenium library"
   ]
  },
  {
   "cell_type": "code",
   "execution_count": 2,
   "metadata": {},
   "outputs": [],
   "source": [
    "#Importing packages\n",
    "from selenium import webdriver\n",
    "import pandas as pd"
   ]
  },
  {
   "cell_type": "markdown",
   "metadata": {},
   "source": [
    "You need to download chromedriver then copy-paste chromedriver.exe path to the line below"
   ]
  },
  {
   "cell_type": "code",
   "execution_count": 3,
   "metadata": {},
   "outputs": [],
   "source": [
    "driver = webdriver.Chrome(r\"C:\\Users\\MONSTER\\Desktop\\driver\\chromedriver.exe\")"
   ]
  },
  {
   "cell_type": "code",
   "execution_count": 4,
   "metadata": {},
   "outputs": [],
   "source": [
    "driver.get('https://www.nanos.ai/')"
   ]
  },
  {
   "cell_type": "code",
   "execution_count": 5,
   "metadata": {},
   "outputs": [],
   "source": [
    "#/html/body---> Xpath"
   ]
  },
  {
   "cell_type": "code",
   "execution_count": 6,
   "metadata": {},
   "outputs": [
    {
     "data": {
      "text/plain": [
       "'Search:\\nNanos is a do-it-yourself\\npay-as-you-go\\nadvertising tool\\nCreate optimized ad campaigns on Google, Facebook, and Instagram all in one place with Nanos patented Artificial Intelligence technology\\nWatch How It Works\\nBecome your own marketing agency in 4 easy steps\\nNo website, no Facebook Business page required\\nOnline marketing should be this simple\\nIt’s like having an agency in your pocket!\\nStep 1: Sign up at Nanos and tell us in a few words about your great product or service\\nStep 2: Nanos AI will suggest ad text, keywords, interests, and platforms for your ad\\nStep 3: Decide on the budget you want to spend, and how long to run your ads\\nStep 4: Log in to your dashboard and watch Nanos AI in action optimizing at lightning speed\\nAs seen on:\\nThe digital marketing superhero for every kind of business\\nWhether you have a physical store or an online venture, the goal is the same: to grow your business!\\nWe understand that existing marketing tools may be too complicated and expensive. After all, not everyone is a marketing expert or can afford to hire one.\\nNo website or landing page? We’ve got you covered!\\nA Win-Win Solution\\nAt Nanos, we take the confusion out of online advertising. Nanos fees are transparent: we charge 17% of your total advertising budget, and you can pause or cancel your ad campaign any time. Any remaining funds get refunded to your account automatically!\\nNanos has a proven track record for bringing in new clients for business like yours: restaurants, auto sales, real estate agencies, video game developers, online courses, and wedding planners.\\nNanos for Agencies\\nAre you running a small to midsize agency?\\nLooking for a tool to optimize your clients’ budgets and your own costs on managing the overhead expenses for ad campaign design, text, placement and cross-platform, keywords and interests optimization, and reporting?\\nSuccess stories\\nAt Nanos, we help make success stories one business at a time.\\n\\n\\n\\n\\n\\nGABRIEL SCHMID – SMALLBUSINESSACCOUNTANTS GMBH\\nThanks to Nanocorp AG, I can create my online marketing campaign with a single login and use the effective evaluation to control and adapt the online marketing strategy of my company constantly. Thanks to the great support and experience of the team, I receive useful tips in terms of online marketing and business success.\\n\\n\\n\\n\\n\\n\\n\\n\\n\\n\\n\\n\\nNanos AI turns you into a marketing PRO\\nThe finest technology and the simplest interface for laser-focused ads\\nNanos powerful technology helps you craft a campaign with multiple ads and publishes them simultaneously on several platforms: Google Ads, Facebook Ads, and Instagram.\\nOur AI suggests the best platforms based on your product. During the campaign run, the machine learning technology reshuffles your budget, discarding the lowest performing platforms.\\nNanos technology also edits your campaign on the fly by optimizing keywords, bids and interests, all while experimenting with audiences. It’s like having your own agency, 24/7!\\nCurious about our technology?\\nStay tuned!\\nSign up for our newsletter to make sure you don’t miss a thing\\nFrom our blog\\nLatest news & events\\nJan\\n15\\n2021\\nHow To\\nMarketing\\nHow To Create an Effective Ad For Your Beauty Product or Brand\\nRead article\\nJan\\n13\\n2021\\nBusiness\\nMarketing\\nSocial Media\\n6 Successful Ways To Communicate With Your Audience\\nRead article\\nWe are currently seeking international partnerships\\nBecome a partner and ambassador of Nanos to be part of a network of strategic collaborations that give businesses big and small access to marketing power they need!\\nContact Us\\nAbout Us\\nFAQ\\nContact\\nVideos\\nNanos AI Engine\\nCase Studies\\nBlog\\nBuild a Free Landing Page\\nBook a Free Consultation\\nTerms of Use\\nPrivacy Policy\\nNanos © 2021'"
      ]
     },
     "execution_count": 6,
     "metadata": {},
     "output_type": "execute_result"
    }
   ],
   "source": [
    "text = driver.find_elements_by_xpath(\"/html/body\")[0]\n",
    "all_text = text.text\n",
    "all_text"
   ]
  },
  {
   "cell_type": "markdown",
   "metadata": {},
   "source": [
    "import NLP libraries "
   ]
  },
  {
   "cell_type": "code",
   "execution_count": 7,
   "metadata": {},
   "outputs": [
    {
     "name": "stderr",
     "output_type": "stream",
     "text": [
      "[nltk_data] Downloading package punkt to\n",
      "[nltk_data]     C:\\Users\\MONSTER\\AppData\\Roaming\\nltk_data...\n",
      "[nltk_data]   Package punkt is already up-to-date!\n"
     ]
    }
   ],
   "source": [
    "#from textblob import TextBlob\n",
    "from sklearn import model_selection, preprocessing, linear_model, naive_bayes, metrics\n",
    "from sklearn.feature_extraction.text import TfidfVectorizer, CountVectorizer\n",
    "from sklearn import decomposition, ensemble\n",
    "from nltk.tokenize import sent_tokenize, word_tokenize\n",
    "import nltk\n",
    "nltk.download(\"punkt\")\n",
    "from nltk.stem import WordNetLemmatizer\n",
    "from nltk.corpus import stopwords\n",
    "from warnings import filterwarnings\n",
    "filterwarnings('ignore')\n",
    "from gensim.models import Word2Vec"
   ]
  },
  {
   "cell_type": "markdown",
   "metadata": {},
   "source": [
    "lenght of our all_text"
   ]
  },
  {
   "cell_type": "code",
   "execution_count": 8,
   "metadata": {},
   "outputs": [
    {
     "data": {
      "text/plain": [
       "3707"
      ]
     },
     "execution_count": 8,
     "metadata": {},
     "output_type": "execute_result"
    }
   ],
   "source": [
    "len(all_text)"
   ]
  },
  {
   "cell_type": "markdown",
   "metadata": {},
   "source": [
    "tokenize word"
   ]
  },
  {
   "cell_type": "code",
   "execution_count": 9,
   "metadata": {},
   "outputs": [],
   "source": [
    "text=word_tokenize(all_text.lower())"
   ]
  },
  {
   "cell_type": "markdown",
   "metadata": {},
   "source": [
    "only alphabetical strings"
   ]
  },
  {
   "cell_type": "code",
   "execution_count": 10,
   "metadata": {},
   "outputs": [],
   "source": [
    "text = [w for w in text if w.isalpha()]"
   ]
  },
  {
   "cell_type": "code",
   "execution_count": 11,
   "metadata": {},
   "outputs": [],
   "source": [
    "stop_words = stopwords.words('english')"
   ]
  },
  {
   "cell_type": "markdown",
   "metadata": {},
   "source": [
    "meaningful words that come from stopwords"
   ]
  },
  {
   "cell_type": "code",
   "execution_count": 12,
   "metadata": {},
   "outputs": [],
   "source": [
    "text = [t for t in text if t not in stop_words]"
   ]
  },
  {
   "cell_type": "markdown",
   "metadata": {},
   "source": [
    "meaningful text lenght"
   ]
  },
  {
   "cell_type": "code",
   "execution_count": 13,
   "metadata": {},
   "outputs": [
    {
     "data": {
      "text/plain": [
       "359"
      ]
     },
     "execution_count": 13,
     "metadata": {},
     "output_type": "execute_result"
    }
   ],
   "source": [
    "len(text)"
   ]
  },
  {
   "cell_type": "markdown",
   "metadata": {},
   "source": [
    "Word Embedding"
   ]
  },
  {
   "cell_type": "code",
   "execution_count": 14,
   "metadata": {},
   "outputs": [],
   "source": [
    "import numpy as np"
   ]
  },
  {
   "cell_type": "code",
   "execution_count": 15,
   "metadata": {},
   "outputs": [],
   "source": [
    "from tensorflow.keras.models import Sequential,Model"
   ]
  },
  {
   "cell_type": "code",
   "execution_count": 16,
   "metadata": {},
   "outputs": [],
   "source": [
    "from tensorflow.keras.layers import Embedding"
   ]
  },
  {
   "cell_type": "code",
   "execution_count": 17,
   "metadata": {},
   "outputs": [],
   "source": [
    "from tensorflow.keras.preprocessing.text import Tokenizer\n",
    "from tensorflow.keras.preprocessing.sequence import pad_sequences"
   ]
  },
  {
   "cell_type": "code",
   "execution_count": 18,
   "metadata": {},
   "outputs": [],
   "source": [
    "MAX_NB_WORDS = 100\n",
    "MAX_SEQUENCE_LENGTH = 39"
   ]
  },
  {
   "cell_type": "code",
   "execution_count": 19,
   "metadata": {},
   "outputs": [
    {
     "data": {
      "text/plain": [
       "['search', 'nanos']"
      ]
     },
     "execution_count": 19,
     "metadata": {},
     "output_type": "execute_result"
    }
   ],
   "source": [
    "text[:2]"
   ]
  },
  {
   "cell_type": "markdown",
   "metadata": {},
   "source": [
    "modelling"
   ]
  },
  {
   "cell_type": "code",
   "execution_count": 20,
   "metadata": {},
   "outputs": [
    {
     "name": "stdout",
     "output_type": "stream",
     "text": [
      "Found 237 unique tokens.\n"
     ]
    }
   ],
   "source": [
    "tokenizer = Tokenizer(nb_words=MAX_NB_WORDS)\n",
    "tokenizer.fit_on_texts(text)\n",
    "sequences = tokenizer.texts_to_sequences(text)\n",
    "\n",
    "word_index = tokenizer.word_index\n",
    "print('Found %s unique tokens.' % len(word_index))"
   ]
  },
  {
   "cell_type": "code",
   "execution_count": 21,
   "metadata": {},
   "outputs": [
    {
     "data": {
      "text/plain": [
       "{'nanos': 1,\n",
       " 'marketing': 2,\n",
       " 'business': 3,\n",
       " 'online': 4,\n",
       " 'ad': 5,\n",
       " 'technology': 6,\n",
       " 'campaign': 7,\n",
       " 'ai': 8,\n",
       " 'ads': 9,\n",
       " 'agency': 10,\n",
       " 'step': 11,\n",
       " 'platforms': 12,\n",
       " 'advertising': 13,\n",
       " 'create': 14,\n",
       " 'facebook': 15,\n",
       " 'one': 16,\n",
       " 'page': 17,\n",
       " 'like': 18,\n",
       " 'us': 19,\n",
       " 'product': 20,\n",
       " 'keywords': 21,\n",
       " 'interests': 22,\n",
       " 'budget': 23,\n",
       " 'success': 24,\n",
       " 'tool': 25,\n",
       " 'google': 26,\n",
       " 'instagram': 27,\n",
       " 'watch': 28,\n",
       " 'become': 29,\n",
       " 'website': 30,\n",
       " 'sign': 31,\n",
       " 'great': 32,\n",
       " 'text': 33,\n",
       " 'run': 34,\n",
       " 'optimizing': 35,\n",
       " 'landing': 36,\n",
       " 'time': 37,\n",
       " 'clients': 38,\n",
       " 'agencies': 39,\n",
       " 'small': 40,\n",
       " 'stories': 41,\n",
       " 'make': 42,\n",
       " 'thanks': 43,\n",
       " 'use': 44,\n",
       " 'effective': 45,\n",
       " 'terms': 46,\n",
       " 'blog': 47,\n",
       " 'jan': 48,\n",
       " 'read': 49,\n",
       " 'article': 50,\n",
       " 'contact': 51,\n",
       " 'free': 52,\n",
       " 'search': 53,\n",
       " 'optimized': 54,\n",
       " 'campaigns': 55,\n",
       " 'place': 56,\n",
       " 'patented': 57,\n",
       " 'artificial': 58,\n",
       " 'intelligence': 59,\n",
       " 'works': 60,\n",
       " 'easy': 61,\n",
       " 'steps': 62,\n",
       " 'required': 63,\n",
       " 'simple': 64,\n",
       " 'pocket': 65,\n",
       " 'tell': 66,\n",
       " 'words': 67,\n",
       " 'service': 68,\n",
       " 'suggest': 69,\n",
       " 'decide': 70,\n",
       " 'want': 71,\n",
       " 'spend': 72,\n",
       " 'long': 73,\n",
       " 'log': 74,\n",
       " 'dashboard': 75,\n",
       " 'action': 76,\n",
       " 'lightning': 77,\n",
       " 'speed': 78,\n",
       " 'seen': 79,\n",
       " 'digital': 80,\n",
       " 'superhero': 81,\n",
       " 'every': 82,\n",
       " 'kind': 83,\n",
       " 'whether': 84,\n",
       " 'physical': 85,\n",
       " 'store': 86,\n",
       " 'venture': 87,\n",
       " 'goal': 88,\n",
       " 'grow': 89,\n",
       " 'understand': 90,\n",
       " 'existing': 91,\n",
       " 'tools': 92,\n",
       " 'may': 93,\n",
       " 'complicated': 94,\n",
       " 'expensive': 95,\n",
       " 'everyone': 96,\n",
       " 'expert': 97,\n",
       " 'afford': 98,\n",
       " 'hire': 99,\n",
       " 'got': 100,\n",
       " 'covered': 101,\n",
       " 'solution': 102,\n",
       " 'take': 103,\n",
       " 'confusion': 104,\n",
       " 'fees': 105,\n",
       " 'transparent': 106,\n",
       " 'charge': 107,\n",
       " 'total': 108,\n",
       " 'pause': 109,\n",
       " 'cancel': 110,\n",
       " 'remaining': 111,\n",
       " 'funds': 112,\n",
       " 'get': 113,\n",
       " 'refunded': 114,\n",
       " 'account': 115,\n",
       " 'automatically': 116,\n",
       " 'proven': 117,\n",
       " 'track': 118,\n",
       " 'record': 119,\n",
       " 'bringing': 120,\n",
       " 'new': 121,\n",
       " 'restaurants': 122,\n",
       " 'auto': 123,\n",
       " 'sales': 124,\n",
       " 'real': 125,\n",
       " 'estate': 126,\n",
       " 'video': 127,\n",
       " 'game': 128,\n",
       " 'developers': 129,\n",
       " 'courses': 130,\n",
       " 'wedding': 131,\n",
       " 'planners': 132,\n",
       " 'running': 133,\n",
       " 'midsize': 134,\n",
       " 'looking': 135,\n",
       " 'optimize': 136,\n",
       " 'budgets': 137,\n",
       " 'costs': 138,\n",
       " 'managing': 139,\n",
       " 'overhead': 140,\n",
       " 'expenses': 141,\n",
       " 'design': 142,\n",
       " 'placement': 143,\n",
       " 'optimization': 144,\n",
       " 'reporting': 145,\n",
       " 'help': 146,\n",
       " 'gabriel': 147,\n",
       " 'schmid': 148,\n",
       " 'smallbusinessaccountants': 149,\n",
       " 'gmbh': 150,\n",
       " 'nanocorp': 151,\n",
       " 'ag': 152,\n",
       " 'single': 153,\n",
       " 'login': 154,\n",
       " 'evaluation': 155,\n",
       " 'control': 156,\n",
       " 'adapt': 157,\n",
       " 'strategy': 158,\n",
       " 'company': 159,\n",
       " 'constantly': 160,\n",
       " 'support': 161,\n",
       " 'experience': 162,\n",
       " 'team': 163,\n",
       " 'receive': 164,\n",
       " 'useful': 165,\n",
       " 'tips': 166,\n",
       " 'turns': 167,\n",
       " 'pro': 168,\n",
       " 'finest': 169,\n",
       " 'simplest': 170,\n",
       " 'interface': 171,\n",
       " 'powerful': 172,\n",
       " 'helps': 173,\n",
       " 'craft': 174,\n",
       " 'multiple': 175,\n",
       " 'publishes': 176,\n",
       " 'simultaneously': 177,\n",
       " 'several': 178,\n",
       " 'suggests': 179,\n",
       " 'best': 180,\n",
       " 'based': 181,\n",
       " 'machine': 182,\n",
       " 'learning': 183,\n",
       " 'reshuffles': 184,\n",
       " 'discarding': 185,\n",
       " 'lowest': 186,\n",
       " 'performing': 187,\n",
       " 'also': 188,\n",
       " 'edits': 189,\n",
       " 'fly': 190,\n",
       " 'bids': 191,\n",
       " 'experimenting': 192,\n",
       " 'audiences': 193,\n",
       " 'curious': 194,\n",
       " 'stay': 195,\n",
       " 'tuned': 196,\n",
       " 'newsletter': 197,\n",
       " 'sure': 198,\n",
       " 'miss': 199,\n",
       " 'thing': 200,\n",
       " 'latest': 201,\n",
       " 'news': 202,\n",
       " 'events': 203,\n",
       " 'beauty': 204,\n",
       " 'brand': 205,\n",
       " 'social': 206,\n",
       " 'media': 207,\n",
       " 'successful': 208,\n",
       " 'ways': 209,\n",
       " 'communicate': 210,\n",
       " 'audience': 211,\n",
       " 'currently': 212,\n",
       " 'seeking': 213,\n",
       " 'international': 214,\n",
       " 'partnerships': 215,\n",
       " 'partner': 216,\n",
       " 'ambassador': 217,\n",
       " 'part': 218,\n",
       " 'network': 219,\n",
       " 'strategic': 220,\n",
       " 'collaborations': 221,\n",
       " 'give': 222,\n",
       " 'businesses': 223,\n",
       " 'big': 224,\n",
       " 'access': 225,\n",
       " 'power': 226,\n",
       " 'need': 227,\n",
       " 'faq': 228,\n",
       " 'videos': 229,\n",
       " 'engine': 230,\n",
       " 'case': 231,\n",
       " 'studies': 232,\n",
       " 'build': 233,\n",
       " 'book': 234,\n",
       " 'consultation': 235,\n",
       " 'privacy': 236,\n",
       " 'policy': 237}"
      ]
     },
     "execution_count": 21,
     "metadata": {},
     "output_type": "execute_result"
    }
   ],
   "source": [
    "word_index"
   ]
  },
  {
   "cell_type": "markdown",
   "metadata": {},
   "source": [
    " load the whole embedding into memory, I used glove trained model"
   ]
  },
  {
   "cell_type": "code",
   "execution_count": 22,
   "metadata": {},
   "outputs": [],
   "source": [
    "\n",
    "embeddings_index = dict()\n",
    "f = open('./glove.6B.100d.txt', encoding=\"utf-8\")\n",
    "for line in f:\n",
    "\tvalues = line.split()\n",
    "\tword = values[0]\n",
    "\tcoefs = np.asarray(values[1:], dtype='float32')\n",
    "\tembeddings_index[word] = coefs\n",
    "f.close()"
   ]
  },
  {
   "cell_type": "markdown",
   "metadata": {},
   "source": [
    "len(embeddings_index)"
   ]
  },
  {
   "cell_type": "markdown",
   "metadata": {},
   "source": [
    "Adding 1 because of reserved 0 index. Later we will reduce this zero."
   ]
  },
  {
   "cell_type": "code",
   "execution_count": 23,
   "metadata": {},
   "outputs": [
    {
     "name": "stdout",
     "output_type": "stream",
     "text": [
      "238\n"
     ]
    }
   ],
   "source": [
    "vocab_size = len(tokenizer.word_index) + 1\n",
    "print (vocab_size)"
   ]
  },
  {
   "cell_type": "markdown",
   "metadata": {},
   "source": [
    "create a weight matrix for words in training docs"
   ]
  },
  {
   "cell_type": "code",
   "execution_count": 24,
   "metadata": {},
   "outputs": [],
   "source": [
    "embedding_matrix = np.zeros((vocab_size, 100))\n",
    "for word, i in tokenizer.word_index.items():\n",
    "\tembedding_vector = embeddings_index.get(word)\n",
    "\tif embedding_vector is not None:\n",
    "\t\tembedding_matrix[i] = embedding_vector"
   ]
  },
  {
   "cell_type": "code",
   "execution_count": 25,
   "metadata": {},
   "outputs": [
    {
     "data": {
      "text/plain": [
       "1"
      ]
     },
     "execution_count": 25,
     "metadata": {},
     "output_type": "execute_result"
    }
   ],
   "source": [
    "tokenizer.word_index.get(\"nanos\")"
   ]
  },
  {
   "cell_type": "code",
   "execution_count": 26,
   "metadata": {},
   "outputs": [
    {
     "data": {
      "text/plain": [
       "2"
      ]
     },
     "execution_count": 26,
     "metadata": {},
     "output_type": "execute_result"
    }
   ],
   "source": [
    "tokenizer.word_index.get(\"marketing\")"
   ]
  },
  {
   "cell_type": "code",
   "execution_count": 27,
   "metadata": {},
   "outputs": [
    {
     "data": {
      "text/plain": [
       "(238, 100)"
      ]
     },
     "execution_count": 27,
     "metadata": {},
     "output_type": "execute_result"
    }
   ],
   "source": [
    "embedding_matrix.shape"
   ]
  },
  {
   "cell_type": "markdown",
   "metadata": {},
   "source": [
    "nanos embedding_matrix"
   ]
  },
  {
   "cell_type": "code",
   "execution_count": 28,
   "metadata": {},
   "outputs": [
    {
     "data": {
      "text/plain": [
       "array([-0.50895   , -0.62186998, -0.17041001, -0.59547001,  0.14644   ,\n",
       "       -0.56857997,  0.67795002,  0.18999   ,  0.53547001,  0.22712   ,\n",
       "       -0.45181999,  1.05700004, -0.19568001, -0.025027  ,  0.12122   ,\n",
       "       -0.37439001, -0.22944   ,  0.73356998,  0.75897002, -0.16356   ,\n",
       "       -0.16004001, -0.18779001,  0.30711001, -0.03862   ,  0.12699001,\n",
       "        0.52557999,  0.44400999,  0.24555001,  0.19909   ,  0.28669   ,\n",
       "       -0.41064   ,  0.052381  , -0.34483001,  0.56068999,  0.05825   ,\n",
       "        0.26339   , -0.21213   ,  0.15447   ,  0.10869   , -0.61321998,\n",
       "        0.31114   ,  0.61161   , -0.48236999,  0.11865   ,  0.24201   ,\n",
       "        0.62945998,  0.13932   , -0.40253001, -0.32706001,  0.92935002,\n",
       "        0.05542   , -0.91016001, -0.24862   , -0.78986001, -0.65316999,\n",
       "        0.42179   ,  0.20321999, -0.22351   ,  0.14002   , -0.53323001,\n",
       "        0.47420001,  0.048665  ,  0.063908  ,  0.19746999, -0.60047001,\n",
       "        0.57744998, -0.097913  , -0.045353  , -0.11291   , -0.33859   ,\n",
       "        1.01279998,  0.66588002, -0.062448  , -0.11679   , -0.76549   ,\n",
       "        0.16039   ,  0.1533    ,  0.46779001,  0.1779    ,  0.74444002,\n",
       "        0.39886999, -0.56265002, -0.11654   ,  0.082269  , -0.10076   ,\n",
       "        0.34092   ,  0.43366   ,  0.027363  ,  0.044179  ,  0.38416001,\n",
       "        0.089538  , -0.42188001, -0.06149   , -0.24308001,  0.025061  ,\n",
       "        0.2358    , -0.42501   , -0.025432  , -0.27390999,  0.030641  ])"
      ]
     },
     "execution_count": 28,
     "metadata": {},
     "output_type": "execute_result"
    }
   ],
   "source": [
    "embedding_matrix[1]"
   ]
  },
  {
   "cell_type": "markdown",
   "metadata": {},
   "source": [
    "In order to find similarity of words, using cosine_similarity"
   ]
  },
  {
   "cell_type": "code",
   "execution_count": 29,
   "metadata": {},
   "outputs": [],
   "source": [
    "from sklearn.metrics.pairwise import cosine_similarity\n",
    "import numpy as np"
   ]
  },
  {
   "cell_type": "code",
   "execution_count": 30,
   "metadata": {},
   "outputs": [],
   "source": [
    "sim_mat = cosine_similarity(embedding_matrix,embedding_matrix)"
   ]
  },
  {
   "cell_type": "code",
   "execution_count": 31,
   "metadata": {},
   "outputs": [
    {
     "data": {
      "text/plain": [
       "(238, 238)"
      ]
     },
     "execution_count": 31,
     "metadata": {},
     "output_type": "execute_result"
    }
   ],
   "source": [
    "sim_mat.shape"
   ]
  },
  {
   "cell_type": "markdown",
   "metadata": {},
   "source": [
    "similarity matrix for nanos"
   ]
  },
  {
   "cell_type": "code",
   "execution_count": 32,
   "metadata": {},
   "outputs": [
    {
     "data": {
      "text/plain": [
       "array([ 0.        ,  1.        , -0.03635012, -0.2201808 , -0.0492457 ,\n",
       "       -0.15194036,  0.01661878, -0.21902691,  0.12980407, -0.12631538,\n",
       "       -0.14582046, -0.11327082,  0.07147027, -0.1608474 , -0.05334705,\n",
       "        0.03649543, -0.1991473 , -0.12575312, -0.18846528, -0.19289147,\n",
       "       -0.05321964, -0.12914448, -0.32873311, -0.08747623, -0.17385242,\n",
       "       -0.1256644 ,  0.06687981,  0.14940334, -0.07708942, -0.13231209,\n",
       "       -0.00832716, -0.16387112, -0.22171543, -0.14559109, -0.17089942,\n",
       "        0.02058547, -0.04762698, -0.28719919, -0.2577703 , -0.21379487,\n",
       "       -0.1072432 , -0.31826807, -0.11614724, -0.20130063, -0.10468696,\n",
       "       -0.11668682, -0.23278099,  0.00761174, -0.07999595, -0.13757201,\n",
       "       -0.2381364 , -0.31831065, -0.12971017, -0.15133994,  0.09747418,\n",
       "       -0.23959899, -0.24857704,  0.12760671,  0.10023005, -0.1373164 ,\n",
       "       -0.12258395, -0.16192208, -0.15769151, -0.16958424, -0.14655286,\n",
       "       -0.04042769, -0.17465081, -0.1804527 , -0.1432407 , -0.14117953,\n",
       "       -0.13034164, -0.14355601, -0.09888049, -0.14804137, -0.14646779,\n",
       "        0.07926954, -0.2264921 , -0.06338948, -0.16003468, -0.18928817,\n",
       "        0.10037339, -0.14053169, -0.17238945, -0.18920896, -0.15573816,\n",
       "       -0.22407248, -0.0326617 ,  0.05822127, -0.12756426,  0.00819103,\n",
       "       -0.16556415, -0.02200644, -0.09298159, -0.10991157, -0.17827826,\n",
       "       -0.0137283 , -0.21801686, -0.06618231, -0.09570881, -0.08408113,\n",
       "       -0.17672772, -0.17468026, -0.12329261, -0.162836  , -0.11406496,\n",
       "       -0.07351048, -0.00531002, -0.10171095, -0.09046981, -0.06733569,\n",
       "        0.04711934, -0.22855463, -0.1599136 , -0.15912308,  0.1325604 ,\n",
       "       -0.2552646 , -0.09515347,  0.01273897, -0.19681477, -0.24549203,\n",
       "       -0.18766459, -0.11408666, -0.05871037, -0.20800001, -0.07958239,\n",
       "       -0.25754721, -0.22973139,  0.00728257, -0.13455537,  0.04515481,\n",
       "       -0.04179827, -0.17557594, -0.09501632, -0.15843057,  0.01557436,\n",
       "       -0.19811595,  0.02356198, -0.29956411, -0.09396629, -0.05791821,\n",
       "        0.01893927, -0.13317339, -0.03624369, -0.1333975 ,  0.04506253,\n",
       "       -0.2291456 , -0.16428516,  0.07728781,  0.16205632,  0.        ,\n",
       "        0.06073683,  0.        ,  0.01266371, -0.11223276, -0.08469946,\n",
       "       -0.05530171, -0.12276579, -0.02111532, -0.09782542, -0.0548458 ,\n",
       "       -0.17963518, -0.18320182, -0.2181503 , -0.20585589, -0.11946738,\n",
       "       -0.11985062, -0.1802996 , -0.2202311 , -0.13989296, -0.06024051,\n",
       "        0.01978036,  0.00654812, -0.25103548, -0.16259016, -0.05796399,\n",
       "       -0.16350095, -0.04561721, -0.10342612, -0.15899183, -0.17458918,\n",
       "       -0.20611168, -0.10518144, -0.16325081, -0.09555494,  0.12868623,\n",
       "        0.01528885, -0.16568877, -0.10886218, -0.16204009, -0.11644137,\n",
       "       -0.01598104, -0.090114  ,  0.09657437, -0.11425024, -0.06330226,\n",
       "       -0.11841356,  0.03127361, -0.01578183, -0.16613855, -0.10972692,\n",
       "       -0.15289277, -0.06484733, -0.22342905, -0.31276642, -0.12215806,\n",
       "       -0.05511113, -0.22100705, -0.13475199, -0.1137209 , -0.19990051,\n",
       "       -0.0436383 , -0.10074688, -0.04137718, -0.26797878, -0.15150133,\n",
       "       -0.30019312, -0.27848878, -0.09960441, -0.14712965, -0.06496643,\n",
       "       -0.05220515, -0.03221934, -0.19564979, -0.12120934, -0.17322264,\n",
       "       -0.13789326, -0.1009017 , -0.16488037, -0.06941516,  0.04770737,\n",
       "       -0.00489165, -0.15989272,  0.00910809, -0.05561692, -0.17859904,\n",
       "       -0.06490849, -0.04201105, -0.18136536])"
      ]
     },
     "execution_count": 32,
     "metadata": {},
     "output_type": "execute_result"
    }
   ],
   "source": [
    "sim_mat[1]"
   ]
  },
  {
   "cell_type": "code",
   "execution_count": 33,
   "metadata": {},
   "outputs": [
    {
     "data": {
      "text/plain": [
       "array([ 1.        , -0.03635012, -0.2201808 , -0.0492457 , -0.15194036,\n",
       "        0.01661878, -0.21902691,  0.12980407, -0.12631538, -0.14582046,\n",
       "       -0.11327082,  0.07147027, -0.1608474 , -0.05334705,  0.03649543,\n",
       "       -0.1991473 , -0.12575312, -0.18846528, -0.19289147, -0.05321964,\n",
       "       -0.12914448, -0.32873311, -0.08747623, -0.17385242, -0.1256644 ,\n",
       "        0.06687981,  0.14940334, -0.07708942, -0.13231209, -0.00832716,\n",
       "       -0.16387112, -0.22171543, -0.14559109, -0.17089942,  0.02058547,\n",
       "       -0.04762698, -0.28719919, -0.2577703 , -0.21379487, -0.1072432 ,\n",
       "       -0.31826807, -0.11614724, -0.20130063, -0.10468696, -0.11668682,\n",
       "       -0.23278099,  0.00761174, -0.07999595, -0.13757201, -0.2381364 ,\n",
       "       -0.31831065, -0.12971017, -0.15133994,  0.09747418, -0.23959899,\n",
       "       -0.24857704,  0.12760671,  0.10023005, -0.1373164 , -0.12258395,\n",
       "       -0.16192208, -0.15769151, -0.16958424, -0.14655286, -0.04042769,\n",
       "       -0.17465081, -0.1804527 , -0.1432407 , -0.14117953, -0.13034164,\n",
       "       -0.14355601, -0.09888049, -0.14804137, -0.14646779,  0.07926954,\n",
       "       -0.2264921 , -0.06338948, -0.16003468, -0.18928817,  0.10037339,\n",
       "       -0.14053169, -0.17238945, -0.18920896, -0.15573816, -0.22407248,\n",
       "       -0.0326617 ,  0.05822127, -0.12756426,  0.00819103, -0.16556415,\n",
       "       -0.02200644, -0.09298159, -0.10991157, -0.17827826, -0.0137283 ,\n",
       "       -0.21801686, -0.06618231, -0.09570881, -0.08408113, -0.17672772,\n",
       "       -0.17468026, -0.12329261, -0.162836  , -0.11406496, -0.07351048,\n",
       "       -0.00531002, -0.10171095, -0.09046981, -0.06733569,  0.04711934,\n",
       "       -0.22855463, -0.1599136 , -0.15912308,  0.1325604 , -0.2552646 ,\n",
       "       -0.09515347,  0.01273897, -0.19681477, -0.24549203, -0.18766459,\n",
       "       -0.11408666, -0.05871037, -0.20800001, -0.07958239, -0.25754721,\n",
       "       -0.22973139,  0.00728257, -0.13455537,  0.04515481, -0.04179827,\n",
       "       -0.17557594, -0.09501632, -0.15843057,  0.01557436, -0.19811595,\n",
       "        0.02356198, -0.29956411, -0.09396629, -0.05791821,  0.01893927,\n",
       "       -0.13317339, -0.03624369, -0.1333975 ,  0.04506253, -0.2291456 ,\n",
       "       -0.16428516,  0.07728781,  0.16205632,  0.        ,  0.06073683,\n",
       "        0.        ,  0.01266371, -0.11223276, -0.08469946, -0.05530171,\n",
       "       -0.12276579, -0.02111532, -0.09782542, -0.0548458 , -0.17963518,\n",
       "       -0.18320182, -0.2181503 , -0.20585589, -0.11946738, -0.11985062,\n",
       "       -0.1802996 , -0.2202311 , -0.13989296, -0.06024051,  0.01978036,\n",
       "        0.00654812, -0.25103548, -0.16259016, -0.05796399, -0.16350095,\n",
       "       -0.04561721, -0.10342612, -0.15899183, -0.17458918, -0.20611168,\n",
       "       -0.10518144, -0.16325081, -0.09555494,  0.12868623,  0.01528885,\n",
       "       -0.16568877, -0.10886218, -0.16204009, -0.11644137, -0.01598104,\n",
       "       -0.090114  ,  0.09657437, -0.11425024, -0.06330226, -0.11841356,\n",
       "        0.03127361, -0.01578183, -0.16613855, -0.10972692, -0.15289277,\n",
       "       -0.06484733, -0.22342905, -0.31276642, -0.12215806, -0.05511113,\n",
       "       -0.22100705, -0.13475199, -0.1137209 , -0.19990051, -0.0436383 ,\n",
       "       -0.10074688, -0.04137718, -0.26797878, -0.15150133, -0.30019312,\n",
       "       -0.27848878, -0.09960441, -0.14712965, -0.06496643, -0.05220515,\n",
       "       -0.03221934, -0.19564979, -0.12120934, -0.17322264, -0.13789326,\n",
       "       -0.1009017 , -0.16488037, -0.06941516,  0.04770737, -0.00489165,\n",
       "       -0.15989272,  0.00910809, -0.05561692, -0.17859904, -0.06490849,\n",
       "       -0.04201105, -0.18136536])"
      ]
     },
     "execution_count": 33,
     "metadata": {},
     "output_type": "execute_result"
    }
   ],
   "source": [
    "#We should get rid of first item which is zero. The rest of them are similarity with \"tv\"\n",
    "sim_mat[1][1:]"
   ]
  },
  {
   "cell_type": "code",
   "execution_count": 34,
   "metadata": {},
   "outputs": [
    {
     "name": "stdout",
     "output_type": "stream",
     "text": [
      "nanos 1\n",
      "marketing 2\n",
      "business 3\n",
      "online 4\n",
      "ad 5\n",
      "technology 6\n",
      "campaign 7\n",
      "ai 8\n",
      "ads 9\n",
      "agency 10\n",
      "step 11\n",
      "platforms 12\n",
      "advertising 13\n",
      "create 14\n",
      "facebook 15\n",
      "one 16\n",
      "page 17\n",
      "like 18\n",
      "us 19\n",
      "product 20\n",
      "keywords 21\n",
      "interests 22\n",
      "budget 23\n",
      "success 24\n",
      "tool 25\n",
      "google 26\n",
      "instagram 27\n",
      "watch 28\n",
      "become 29\n",
      "website 30\n",
      "sign 31\n",
      "great 32\n",
      "text 33\n",
      "run 34\n",
      "optimizing 35\n",
      "landing 36\n",
      "time 37\n",
      "clients 38\n",
      "agencies 39\n",
      "small 40\n",
      "stories 41\n",
      "make 42\n",
      "thanks 43\n",
      "use 44\n",
      "effective 45\n",
      "terms 46\n",
      "blog 47\n",
      "jan 48\n",
      "read 49\n",
      "article 50\n",
      "contact 51\n",
      "free 52\n",
      "search 53\n",
      "optimized 54\n",
      "campaigns 55\n",
      "place 56\n",
      "patented 57\n",
      "artificial 58\n",
      "intelligence 59\n",
      "works 60\n",
      "easy 61\n",
      "steps 62\n",
      "required 63\n",
      "simple 64\n",
      "pocket 65\n",
      "tell 66\n",
      "words 67\n",
      "service 68\n",
      "suggest 69\n",
      "decide 70\n",
      "want 71\n",
      "spend 72\n",
      "long 73\n",
      "log 74\n",
      "dashboard 75\n",
      "action 76\n",
      "lightning 77\n",
      "speed 78\n",
      "seen 79\n",
      "digital 80\n",
      "superhero 81\n",
      "every 82\n",
      "kind 83\n",
      "whether 84\n",
      "physical 85\n",
      "store 86\n",
      "venture 87\n",
      "goal 88\n",
      "grow 89\n",
      "understand 90\n",
      "existing 91\n",
      "tools 92\n",
      "may 93\n",
      "complicated 94\n",
      "expensive 95\n",
      "everyone 96\n",
      "expert 97\n",
      "afford 98\n",
      "hire 99\n",
      "got 100\n",
      "covered 101\n",
      "solution 102\n",
      "take 103\n",
      "confusion 104\n",
      "fees 105\n",
      "transparent 106\n",
      "charge 107\n",
      "total 108\n",
      "pause 109\n",
      "cancel 110\n",
      "remaining 111\n",
      "funds 112\n",
      "get 113\n",
      "refunded 114\n",
      "account 115\n",
      "automatically 116\n",
      "proven 117\n",
      "track 118\n",
      "record 119\n",
      "bringing 120\n",
      "new 121\n",
      "restaurants 122\n",
      "auto 123\n",
      "sales 124\n",
      "real 125\n",
      "estate 126\n",
      "video 127\n",
      "game 128\n",
      "developers 129\n",
      "courses 130\n",
      "wedding 131\n",
      "planners 132\n",
      "running 133\n",
      "midsize 134\n",
      "looking 135\n",
      "optimize 136\n",
      "budgets 137\n",
      "costs 138\n",
      "managing 139\n",
      "overhead 140\n",
      "expenses 141\n",
      "design 142\n",
      "placement 143\n",
      "optimization 144\n",
      "reporting 145\n",
      "help 146\n",
      "gabriel 147\n",
      "schmid 148\n",
      "smallbusinessaccountants 149\n",
      "gmbh 150\n",
      "nanocorp 151\n",
      "ag 152\n",
      "single 153\n",
      "login 154\n",
      "evaluation 155\n",
      "control 156\n",
      "adapt 157\n",
      "strategy 158\n",
      "company 159\n",
      "constantly 160\n",
      "support 161\n",
      "experience 162\n",
      "team 163\n",
      "receive 164\n",
      "useful 165\n",
      "tips 166\n",
      "turns 167\n",
      "pro 168\n",
      "finest 169\n",
      "simplest 170\n",
      "interface 171\n",
      "powerful 172\n",
      "helps 173\n",
      "craft 174\n",
      "multiple 175\n",
      "publishes 176\n",
      "simultaneously 177\n",
      "several 178\n",
      "suggests 179\n",
      "best 180\n",
      "based 181\n",
      "machine 182\n",
      "learning 183\n",
      "reshuffles 184\n",
      "discarding 185\n",
      "lowest 186\n",
      "performing 187\n",
      "also 188\n",
      "edits 189\n",
      "fly 190\n",
      "bids 191\n",
      "experimenting 192\n",
      "audiences 193\n",
      "curious 194\n",
      "stay 195\n",
      "tuned 196\n",
      "newsletter 197\n",
      "sure 198\n",
      "miss 199\n",
      "thing 200\n",
      "latest 201\n",
      "news 202\n",
      "events 203\n",
      "beauty 204\n",
      "brand 205\n",
      "social 206\n",
      "media 207\n",
      "successful 208\n",
      "ways 209\n",
      "communicate 210\n",
      "audience 211\n",
      "currently 212\n",
      "seeking 213\n",
      "international 214\n",
      "partnerships 215\n",
      "partner 216\n",
      "ambassador 217\n",
      "part 218\n",
      "network 219\n",
      "strategic 220\n",
      "collaborations 221\n",
      "give 222\n",
      "businesses 223\n",
      "big 224\n",
      "access 225\n",
      "power 226\n",
      "need 227\n",
      "faq 228\n",
      "videos 229\n",
      "engine 230\n",
      "case 231\n",
      "studies 232\n",
      "build 233\n",
      "book 234\n",
      "consultation 235\n",
      "privacy 236\n",
      "policy 237\n"
     ]
    }
   ],
   "source": [
    "for key, value in word_index.items() :\n",
    "    print (key,value)"
   ]
  },
  {
   "cell_type": "markdown",
   "metadata": {},
   "source": [
    "Create Data Frame in pandas"
   ]
  },
  {
   "cell_type": "code",
   "execution_count": 35,
   "metadata": {},
   "outputs": [],
   "source": [
    "df = pd.DataFrame.from_dict(word_index, orient='index')\n",
    "df=df.rename(columns={0: \"similarity\"})"
   ]
  },
  {
   "cell_type": "markdown",
   "metadata": {},
   "source": [
    "Now similarity values come from index numbers"
   ]
  },
  {
   "cell_type": "code",
   "execution_count": 36,
   "metadata": {},
   "outputs": [
    {
     "data": {
      "text/html": [
       "<div>\n",
       "<style scoped>\n",
       "    .dataframe tbody tr th:only-of-type {\n",
       "        vertical-align: middle;\n",
       "    }\n",
       "\n",
       "    .dataframe tbody tr th {\n",
       "        vertical-align: top;\n",
       "    }\n",
       "\n",
       "    .dataframe thead th {\n",
       "        text-align: right;\n",
       "    }\n",
       "</style>\n",
       "<table border=\"1\" class=\"dataframe\">\n",
       "  <thead>\n",
       "    <tr style=\"text-align: right;\">\n",
       "      <th></th>\n",
       "      <th>similarity</th>\n",
       "    </tr>\n",
       "  </thead>\n",
       "  <tbody>\n",
       "    <tr>\n",
       "      <th>nanos</th>\n",
       "      <td>1</td>\n",
       "    </tr>\n",
       "    <tr>\n",
       "      <th>marketing</th>\n",
       "      <td>2</td>\n",
       "    </tr>\n",
       "    <tr>\n",
       "      <th>business</th>\n",
       "      <td>3</td>\n",
       "    </tr>\n",
       "    <tr>\n",
       "      <th>online</th>\n",
       "      <td>4</td>\n",
       "    </tr>\n",
       "    <tr>\n",
       "      <th>ad</th>\n",
       "      <td>5</td>\n",
       "    </tr>\n",
       "  </tbody>\n",
       "</table>\n",
       "</div>"
      ],
      "text/plain": [
       "           similarity\n",
       "nanos               1\n",
       "marketing           2\n",
       "business            3\n",
       "online              4\n",
       "ad                  5"
      ]
     },
     "execution_count": 36,
     "metadata": {},
     "output_type": "execute_result"
    }
   ],
   "source": [
    "df.head()"
   ]
  },
  {
   "cell_type": "code",
   "execution_count": 37,
   "metadata": {},
   "outputs": [
    {
     "data": {
      "text/plain": [
       "80"
      ]
     },
     "execution_count": 37,
     "metadata": {},
     "output_type": "execute_result"
    }
   ],
   "source": [
    "word_index['digital']"
   ]
  },
  {
   "cell_type": "markdown",
   "metadata": {},
   "source": [
    "index number of 'digital' is 80"
   ]
  },
  {
   "cell_type": "code",
   "execution_count": 38,
   "metadata": {},
   "outputs": [],
   "source": [
    "df.similarity=sim_mat[80][1:]"
   ]
  },
  {
   "cell_type": "code",
   "execution_count": 39,
   "metadata": {},
   "outputs": [
    {
     "data": {
      "text/html": [
       "<div>\n",
       "<style scoped>\n",
       "    .dataframe tbody tr th:only-of-type {\n",
       "        vertical-align: middle;\n",
       "    }\n",
       "\n",
       "    .dataframe tbody tr th {\n",
       "        vertical-align: top;\n",
       "    }\n",
       "\n",
       "    .dataframe thead th {\n",
       "        text-align: right;\n",
       "    }\n",
       "</style>\n",
       "<table border=\"1\" class=\"dataframe\">\n",
       "  <thead>\n",
       "    <tr style=\"text-align: right;\">\n",
       "      <th></th>\n",
       "      <th>similarity</th>\n",
       "    </tr>\n",
       "  </thead>\n",
       "  <tbody>\n",
       "    <tr>\n",
       "      <th>digital</th>\n",
       "      <td>1.000000</td>\n",
       "    </tr>\n",
       "    <tr>\n",
       "      <th>video</th>\n",
       "      <td>0.739138</td>\n",
       "    </tr>\n",
       "    <tr>\n",
       "      <th>technology</th>\n",
       "      <td>0.660551</td>\n",
       "    </tr>\n",
       "    <tr>\n",
       "      <th>online</th>\n",
       "      <td>0.648975</td>\n",
       "    </tr>\n",
       "    <tr>\n",
       "      <th>network</th>\n",
       "      <td>0.614934</td>\n",
       "    </tr>\n",
       "    <tr>\n",
       "      <th>access</th>\n",
       "      <td>0.583072</td>\n",
       "    </tr>\n",
       "    <tr>\n",
       "      <th>videos</th>\n",
       "      <td>0.556028</td>\n",
       "    </tr>\n",
       "    <tr>\n",
       "      <th>media</th>\n",
       "      <td>0.554436</td>\n",
       "    </tr>\n",
       "    <tr>\n",
       "      <th>interface</th>\n",
       "      <td>0.541533</td>\n",
       "    </tr>\n",
       "    <tr>\n",
       "      <th>use</th>\n",
       "      <td>0.539343</td>\n",
       "    </tr>\n",
       "    <tr>\n",
       "      <th>advertising</th>\n",
       "      <td>0.538467</td>\n",
       "    </tr>\n",
       "    <tr>\n",
       "      <th>create</th>\n",
       "      <td>0.531965</td>\n",
       "    </tr>\n",
       "    <tr>\n",
       "      <th>product</th>\n",
       "      <td>0.525318</td>\n",
       "    </tr>\n",
       "    <tr>\n",
       "      <th>google</th>\n",
       "      <td>0.520686</td>\n",
       "    </tr>\n",
       "    <tr>\n",
       "      <th>tools</th>\n",
       "      <td>0.518354</td>\n",
       "    </tr>\n",
       "    <tr>\n",
       "      <th>marketing</th>\n",
       "      <td>0.504868</td>\n",
       "    </tr>\n",
       "    <tr>\n",
       "      <th>multiple</th>\n",
       "      <td>0.502196</td>\n",
       "    </tr>\n",
       "    <tr>\n",
       "      <th>text</th>\n",
       "      <td>0.501739</td>\n",
       "    </tr>\n",
       "    <tr>\n",
       "      <th>tool</th>\n",
       "      <td>0.498788</td>\n",
       "    </tr>\n",
       "    <tr>\n",
       "      <th>business</th>\n",
       "      <td>0.492566</td>\n",
       "    </tr>\n",
       "  </tbody>\n",
       "</table>\n",
       "</div>"
      ],
      "text/plain": [
       "             similarity\n",
       "digital        1.000000\n",
       "video          0.739138\n",
       "technology     0.660551\n",
       "online         0.648975\n",
       "network        0.614934\n",
       "access         0.583072\n",
       "videos         0.556028\n",
       "media          0.554436\n",
       "interface      0.541533\n",
       "use            0.539343\n",
       "advertising    0.538467\n",
       "create         0.531965\n",
       "product        0.525318\n",
       "google         0.520686\n",
       "tools          0.518354\n",
       "marketing      0.504868\n",
       "multiple       0.502196\n",
       "text           0.501739\n",
       "tool           0.498788\n",
       "business       0.492566"
      ]
     },
     "execution_count": 39,
     "metadata": {},
     "output_type": "execute_result"
    }
   ],
   "source": [
    "df.sort_values('similarity', ascending = False)[:20]"
   ]
  },
  {
   "cell_type": "markdown",
   "metadata": {},
   "source": [
    "As we see above, digital similarity is 0.660551 for technology, is 0.504868 for marketing"
   ]
  },
  {
   "cell_type": "markdown",
   "metadata": {},
   "source": [
    "by calling word_sim function that is below, you can easily find any word similarity"
   ]
  },
  {
   "cell_type": "code",
   "execution_count": 41,
   "metadata": {},
   "outputs": [],
   "source": [
    "def word_sim(word):\n",
    "    index = tokenizer.word_index.get(word)\n",
    "    df = pd.DataFrame.from_dict(word_index, orient='index')\n",
    "    df=df.rename(columns={0: \"similarity\"})\n",
    "    df.similarity=sim_mat[index][1:]\n",
    "    df = df.sort_values('similarity', ascending = False)[:10]\n",
    "    return df"
   ]
  },
  {
   "cell_type": "markdown",
   "metadata": {},
   "source": [
    "pick a word"
   ]
  },
  {
   "cell_type": "code",
   "execution_count": 42,
   "metadata": {},
   "outputs": [
    {
     "data": {
      "text/plain": [
       "dict_keys(['nanos', 'marketing', 'business', 'online', 'ad', 'technology', 'campaign', 'ai', 'ads', 'agency', 'step', 'platforms', 'advertising', 'create', 'facebook', 'one', 'page', 'like', 'us', 'product', 'keywords', 'interests', 'budget', 'success', 'tool', 'google', 'instagram', 'watch', 'become', 'website', 'sign', 'great', 'text', 'run', 'optimizing', 'landing', 'time', 'clients', 'agencies', 'small', 'stories', 'make', 'thanks', 'use', 'effective', 'terms', 'blog', 'jan', 'read', 'article', 'contact', 'free', 'search', 'optimized', 'campaigns', 'place', 'patented', 'artificial', 'intelligence', 'works', 'easy', 'steps', 'required', 'simple', 'pocket', 'tell', 'words', 'service', 'suggest', 'decide', 'want', 'spend', 'long', 'log', 'dashboard', 'action', 'lightning', 'speed', 'seen', 'digital', 'superhero', 'every', 'kind', 'whether', 'physical', 'store', 'venture', 'goal', 'grow', 'understand', 'existing', 'tools', 'may', 'complicated', 'expensive', 'everyone', 'expert', 'afford', 'hire', 'got', 'covered', 'solution', 'take', 'confusion', 'fees', 'transparent', 'charge', 'total', 'pause', 'cancel', 'remaining', 'funds', 'get', 'refunded', 'account', 'automatically', 'proven', 'track', 'record', 'bringing', 'new', 'restaurants', 'auto', 'sales', 'real', 'estate', 'video', 'game', 'developers', 'courses', 'wedding', 'planners', 'running', 'midsize', 'looking', 'optimize', 'budgets', 'costs', 'managing', 'overhead', 'expenses', 'design', 'placement', 'optimization', 'reporting', 'help', 'gabriel', 'schmid', 'smallbusinessaccountants', 'gmbh', 'nanocorp', 'ag', 'single', 'login', 'evaluation', 'control', 'adapt', 'strategy', 'company', 'constantly', 'support', 'experience', 'team', 'receive', 'useful', 'tips', 'turns', 'pro', 'finest', 'simplest', 'interface', 'powerful', 'helps', 'craft', 'multiple', 'publishes', 'simultaneously', 'several', 'suggests', 'best', 'based', 'machine', 'learning', 'reshuffles', 'discarding', 'lowest', 'performing', 'also', 'edits', 'fly', 'bids', 'experimenting', 'audiences', 'curious', 'stay', 'tuned', 'newsletter', 'sure', 'miss', 'thing', 'latest', 'news', 'events', 'beauty', 'brand', 'social', 'media', 'successful', 'ways', 'communicate', 'audience', 'currently', 'seeking', 'international', 'partnerships', 'partner', 'ambassador', 'part', 'network', 'strategic', 'collaborations', 'give', 'businesses', 'big', 'access', 'power', 'need', 'faq', 'videos', 'engine', 'case', 'studies', 'build', 'book', 'consultation', 'privacy', 'policy'])"
      ]
     },
     "execution_count": 42,
     "metadata": {},
     "output_type": "execute_result"
    }
   ],
   "source": [
    "word_index.keys()"
   ]
  },
  {
   "cell_type": "markdown",
   "metadata": {},
   "source": [
    "run word_sim function within 'marketing'"
   ]
  },
  {
   "cell_type": "code",
   "execution_count": 44,
   "metadata": {},
   "outputs": [
    {
     "data": {
      "text/html": [
       "<div>\n",
       "<style scoped>\n",
       "    .dataframe tbody tr th:only-of-type {\n",
       "        vertical-align: middle;\n",
       "    }\n",
       "\n",
       "    .dataframe tbody tr th {\n",
       "        vertical-align: top;\n",
       "    }\n",
       "\n",
       "    .dataframe thead th {\n",
       "        text-align: right;\n",
       "    }\n",
       "</style>\n",
       "<table border=\"1\" class=\"dataframe\">\n",
       "  <thead>\n",
       "    <tr style=\"text-align: right;\">\n",
       "      <th></th>\n",
       "      <th>similarity</th>\n",
       "    </tr>\n",
       "  </thead>\n",
       "  <tbody>\n",
       "    <tr>\n",
       "      <th>marketing</th>\n",
       "      <td>1.000000</td>\n",
       "    </tr>\n",
       "    <tr>\n",
       "      <th>advertising</th>\n",
       "      <td>0.818577</td>\n",
       "    </tr>\n",
       "    <tr>\n",
       "      <th>business</th>\n",
       "      <td>0.776054</td>\n",
       "    </tr>\n",
       "    <tr>\n",
       "      <th>product</th>\n",
       "      <td>0.698289</td>\n",
       "    </tr>\n",
       "    <tr>\n",
       "      <th>brand</th>\n",
       "      <td>0.686470</td>\n",
       "    </tr>\n",
       "    <tr>\n",
       "      <th>company</th>\n",
       "      <td>0.686448</td>\n",
       "    </tr>\n",
       "    <tr>\n",
       "      <th>strategy</th>\n",
       "      <td>0.679744</td>\n",
       "    </tr>\n",
       "    <tr>\n",
       "      <th>sales</th>\n",
       "      <td>0.663065</td>\n",
       "    </tr>\n",
       "    <tr>\n",
       "      <th>venture</th>\n",
       "      <td>0.631109</td>\n",
       "    </tr>\n",
       "    <tr>\n",
       "      <th>technology</th>\n",
       "      <td>0.606919</td>\n",
       "    </tr>\n",
       "  </tbody>\n",
       "</table>\n",
       "</div>"
      ],
      "text/plain": [
       "             similarity\n",
       "marketing      1.000000\n",
       "advertising    0.818577\n",
       "business       0.776054\n",
       "product        0.698289\n",
       "brand          0.686470\n",
       "company        0.686448\n",
       "strategy       0.679744\n",
       "sales          0.663065\n",
       "venture        0.631109\n",
       "technology     0.606919"
      ]
     },
     "execution_count": 44,
     "metadata": {},
     "output_type": "execute_result"
    }
   ],
   "source": [
    "word_sim('marketing')"
   ]
  },
  {
   "cell_type": "markdown",
   "metadata": {},
   "source": [
    "As we see above, the biggest similarity for marketing is advertising"
   ]
  },
  {
   "cell_type": "code",
   "execution_count": 45,
   "metadata": {},
   "outputs": [
    {
     "data": {
      "text/html": [
       "<div>\n",
       "<style scoped>\n",
       "    .dataframe tbody tr th:only-of-type {\n",
       "        vertical-align: middle;\n",
       "    }\n",
       "\n",
       "    .dataframe tbody tr th {\n",
       "        vertical-align: top;\n",
       "    }\n",
       "\n",
       "    .dataframe thead th {\n",
       "        text-align: right;\n",
       "    }\n",
       "</style>\n",
       "<table border=\"1\" class=\"dataframe\">\n",
       "  <thead>\n",
       "    <tr style=\"text-align: right;\">\n",
       "      <th></th>\n",
       "      <th>similarity</th>\n",
       "    </tr>\n",
       "  </thead>\n",
       "  <tbody>\n",
       "    <tr>\n",
       "      <th>technology</th>\n",
       "      <td>1.000000</td>\n",
       "    </tr>\n",
       "    <tr>\n",
       "      <th>business</th>\n",
       "      <td>0.695139</td>\n",
       "    </tr>\n",
       "    <tr>\n",
       "      <th>digital</th>\n",
       "      <td>0.660551</td>\n",
       "    </tr>\n",
       "    <tr>\n",
       "      <th>tools</th>\n",
       "      <td>0.648552</td>\n",
       "    </tr>\n",
       "    <tr>\n",
       "      <th>tool</th>\n",
       "      <td>0.635280</td>\n",
       "    </tr>\n",
       "    <tr>\n",
       "      <th>design</th>\n",
       "      <td>0.616072</td>\n",
       "    </tr>\n",
       "    <tr>\n",
       "      <th>marketing</th>\n",
       "      <td>0.606919</td>\n",
       "    </tr>\n",
       "    <tr>\n",
       "      <th>based</th>\n",
       "      <td>0.599098</td>\n",
       "    </tr>\n",
       "    <tr>\n",
       "      <th>venture</th>\n",
       "      <td>0.595859</td>\n",
       "    </tr>\n",
       "    <tr>\n",
       "      <th>use</th>\n",
       "      <td>0.595067</td>\n",
       "    </tr>\n",
       "  </tbody>\n",
       "</table>\n",
       "</div>"
      ],
      "text/plain": [
       "            similarity\n",
       "technology    1.000000\n",
       "business      0.695139\n",
       "digital       0.660551\n",
       "tools         0.648552\n",
       "tool          0.635280\n",
       "design        0.616072\n",
       "marketing     0.606919\n",
       "based         0.599098\n",
       "venture       0.595859\n",
       "use           0.595067"
      ]
     },
     "execution_count": 45,
     "metadata": {},
     "output_type": "execute_result"
    }
   ],
   "source": [
    "word_sim('technology')"
   ]
  },
  {
   "cell_type": "markdown",
   "metadata": {},
   "source": [
    "As we see above, the highest similarity for technology is 0.695139"
   ]
  },
  {
   "cell_type": "markdown",
   "metadata": {},
   "source": []
  }
 ],
 "metadata": {
  "kernelspec": {
   "display_name": "Python 3",
   "language": "python",
   "name": "python3"
  },
  "language_info": {
   "codemirror_mode": {
    "name": "ipython",
    "version": 3
   },
   "file_extension": ".py",
   "mimetype": "text/x-python",
   "name": "python",
   "nbconvert_exporter": "python",
   "pygments_lexer": "ipython3",
   "version": "3.8.5"
  }
 },
 "nbformat": 4,
 "nbformat_minor": 4
}
