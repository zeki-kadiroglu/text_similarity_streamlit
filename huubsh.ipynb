{
 "cells": [
  {
   "cell_type": "markdown",
   "metadata": {},
   "source": [
    "THIS FILE SHOULD BE RUN ON YOUR LOCAL(JUPYTER NOTEBOOK)"
   ]
  },
  {
   "cell_type": "markdown",
   "metadata": {},
   "source": [
    "Extracting all text by using selenium library"
   ]
  },
  {
   "cell_type": "code",
   "execution_count": 1,
   "metadata": {},
   "outputs": [],
   "source": [
    "#Importing packages\n",
    "from selenium import webdriver\n",
    "import pandas as pd"
   ]
  },
  {
   "cell_type": "markdown",
   "metadata": {},
   "source": [
    "You need to download chromedriver then copy-paste chromedriver.exe path to the line below"
   ]
  },
  {
   "cell_type": "code",
   "execution_count": 2,
   "metadata": {},
   "outputs": [],
   "source": [
    "driver = webdriver.Chrome(r\"C:\\Users\\MONSTER\\Desktop\\driver\\chromedriver.exe\")"
   ]
  },
  {
   "cell_type": "code",
   "execution_count": 3,
   "metadata": {},
   "outputs": [],
   "source": [
    "driver.get('https://huubsh.com/l/tv-plus-2963')"
   ]
  },
  {
   "cell_type": "code",
   "execution_count": 1,
   "metadata": {},
   "outputs": [],
   "source": [
    "#//div[contains(@class,'description')]---> Xpath"
   ]
  },
  {
   "cell_type": "code",
   "execution_count": 5,
   "metadata": {},
   "outputs": [
    {
     "data": {
      "text/plain": [
       "'TV for today. 100% freedom. 0% risk. Connect. Enjoy!\\nWhy pay too much for your TV and Internet? Order TV PLUS now and really save!\\n160 TV channels in the basic subscription, 75+ in HD. 7-day Replay. Live Pause. Up to 1000h recording. 10’000+ Radio stations & Podcasts. Video on Demand with 5000+ Movies & TV Shows. Access to YouTube, Netflix, Sky.\\n0% risk: you can cancel monthly at no cost after the first 3 months!'"
      ]
     },
     "execution_count": 5,
     "metadata": {},
     "output_type": "execute_result"
    }
   ],
   "source": [
    "text = driver.find_elements_by_xpath(\"//div[contains(@class,'description')]\")[0]\n",
    "all_text = text.text\n",
    "all_text"
   ]
  },
  {
   "cell_type": "code",
   "execution_count": null,
   "metadata": {},
   "outputs": [],
   "source": []
  },
  {
   "cell_type": "markdown",
   "metadata": {},
   "source": [
    "import NLP libraries"
   ]
  },
  {
   "cell_type": "code",
   "execution_count": 6,
   "metadata": {},
   "outputs": [
    {
     "name": "stderr",
     "output_type": "stream",
     "text": [
      "[nltk_data] Downloading package punkt to\n",
      "[nltk_data]     C:\\Users\\MONSTER\\AppData\\Roaming\\nltk_data...\n",
      "[nltk_data]   Package punkt is already up-to-date!\n"
     ]
    }
   ],
   "source": [
    "#from textblob import TextBlob\n",
    "from sklearn import model_selection, preprocessing, linear_model, naive_bayes, metrics\n",
    "from sklearn.feature_extraction.text import TfidfVectorizer, CountVectorizer\n",
    "from sklearn import decomposition, ensemble\n",
    "from nltk.tokenize import sent_tokenize, word_tokenize\n",
    "import nltk\n",
    "nltk.download(\"punkt\")\n",
    "from nltk.stem import WordNetLemmatizer\n",
    "from nltk.corpus import stopwords\n",
    "from warnings import filterwarnings\n",
    "filterwarnings('ignore')\n",
    "from gensim.models import Word2Vec"
   ]
  },
  {
   "cell_type": "markdown",
   "metadata": {},
   "source": [
    "lenght of our all_text"
   ]
  },
  {
   "cell_type": "code",
   "execution_count": 7,
   "metadata": {},
   "outputs": [
    {
     "data": {
      "text/plain": [
       "416"
      ]
     },
     "execution_count": 7,
     "metadata": {},
     "output_type": "execute_result"
    }
   ],
   "source": [
    "len(all_text)"
   ]
  },
  {
   "cell_type": "markdown",
   "metadata": {},
   "source": [
    "tokenize word"
   ]
  },
  {
   "cell_type": "code",
   "execution_count": 8,
   "metadata": {},
   "outputs": [],
   "source": [
    "text=word_tokenize(all_text.lower())"
   ]
  },
  {
   "cell_type": "markdown",
   "metadata": {},
   "source": [
    "only alphabetical strings"
   ]
  },
  {
   "cell_type": "code",
   "execution_count": 9,
   "metadata": {},
   "outputs": [],
   "source": [
    "text = [w for w in text if w.isalpha()]"
   ]
  },
  {
   "cell_type": "code",
   "execution_count": 10,
   "metadata": {},
   "outputs": [],
   "source": [
    "stop_words = stopwords.words('english')"
   ]
  },
  {
   "cell_type": "markdown",
   "metadata": {},
   "source": [
    "meaningful words that come from stopwords"
   ]
  },
  {
   "cell_type": "code",
   "execution_count": 11,
   "metadata": {},
   "outputs": [],
   "source": [
    "text = [t for t in text if t not in stop_words]"
   ]
  },
  {
   "cell_type": "markdown",
   "metadata": {},
   "source": [
    "meaningful text lenght"
   ]
  },
  {
   "cell_type": "code",
   "execution_count": 12,
   "metadata": {},
   "outputs": [
    {
     "data": {
      "text/plain": [
       "42"
      ]
     },
     "execution_count": 12,
     "metadata": {},
     "output_type": "execute_result"
    }
   ],
   "source": [
    "len(text)"
   ]
  },
  {
   "cell_type": "markdown",
   "metadata": {},
   "source": [
    "Word embedding"
   ]
  },
  {
   "cell_type": "code",
   "execution_count": 13,
   "metadata": {},
   "outputs": [],
   "source": [
    "import numpy as np"
   ]
  },
  {
   "cell_type": "code",
   "execution_count": 14,
   "metadata": {},
   "outputs": [],
   "source": [
    "from tensorflow.keras.models import Sequential,Model"
   ]
  },
  {
   "cell_type": "code",
   "execution_count": 15,
   "metadata": {},
   "outputs": [],
   "source": [
    "from tensorflow.keras.layers import Embedding"
   ]
  },
  {
   "cell_type": "code",
   "execution_count": 16,
   "metadata": {},
   "outputs": [],
   "source": [
    "from tensorflow.keras.preprocessing.text import Tokenizer\n",
    "from tensorflow.keras.preprocessing.sequence import pad_sequences"
   ]
  },
  {
   "cell_type": "code",
   "execution_count": 17,
   "metadata": {},
   "outputs": [],
   "source": [
    "MAX_NB_WORDS = 100\n"
   ]
  },
  {
   "cell_type": "code",
   "execution_count": 18,
   "metadata": {},
   "outputs": [
    {
     "data": {
      "text/plain": [
       "['tv', 'today']"
      ]
     },
     "execution_count": 18,
     "metadata": {},
     "output_type": "execute_result"
    }
   ],
   "source": [
    "text[:2]"
   ]
  },
  {
   "cell_type": "markdown",
   "metadata": {},
   "source": [
    "modelling"
   ]
  },
  {
   "cell_type": "code",
   "execution_count": 19,
   "metadata": {},
   "outputs": [
    {
     "name": "stdout",
     "output_type": "stream",
     "text": [
      "Found 37 unique tokens.\n"
     ]
    }
   ],
   "source": [
    "tokenizer = Tokenizer(nb_words=MAX_NB_WORDS)\n",
    "tokenizer.fit_on_texts(text)\n",
    "sequences = tokenizer.texts_to_sequences(text)\n",
    "\n",
    "word_index = tokenizer.word_index\n",
    "print('Found %s unique tokens.' % len(word_index))"
   ]
  },
  {
   "cell_type": "code",
   "execution_count": 20,
   "metadata": {},
   "outputs": [
    {
     "data": {
      "text/plain": [
       "{'tv': 1,\n",
       " 'risk': 2,\n",
       " 'today': 3,\n",
       " 'freedom': 4,\n",
       " 'connect': 5,\n",
       " 'enjoy': 6,\n",
       " 'pay': 7,\n",
       " 'much': 8,\n",
       " 'internet': 9,\n",
       " 'order': 10,\n",
       " 'plus': 11,\n",
       " 'really': 12,\n",
       " 'save': 13,\n",
       " 'channels': 14,\n",
       " 'basic': 15,\n",
       " 'subscription': 16,\n",
       " 'hd': 17,\n",
       " 'replay': 18,\n",
       " 'live': 19,\n",
       " 'pause': 20,\n",
       " 'recording': 21,\n",
       " 'radio': 22,\n",
       " 'stations': 23,\n",
       " 'podcasts': 24,\n",
       " 'video': 25,\n",
       " 'demand': 26,\n",
       " 'movies': 27,\n",
       " 'shows': 28,\n",
       " 'access': 29,\n",
       " 'youtube': 30,\n",
       " 'netflix': 31,\n",
       " 'sky': 32,\n",
       " 'cancel': 33,\n",
       " 'monthly': 34,\n",
       " 'cost': 35,\n",
       " 'first': 36,\n",
       " 'months': 37}"
      ]
     },
     "execution_count": 20,
     "metadata": {},
     "output_type": "execute_result"
    }
   ],
   "source": [
    "word_index"
   ]
  },
  {
   "cell_type": "code",
   "execution_count": null,
   "metadata": {},
   "outputs": [],
   "source": []
  },
  {
   "cell_type": "markdown",
   "metadata": {},
   "source": [
    " load the whole embedding into memory, I used glove trained model"
   ]
  },
  {
   "cell_type": "code",
   "execution_count": 21,
   "metadata": {},
   "outputs": [],
   "source": [
    "#glove has 100 dimension and 6B words\n",
    "embeddings_index = dict()\n",
    "f = open('./glove.6B.100d.txt', encoding=\"utf-8\")\n",
    "for line in f:\n",
    "\tvalues = line.split()\n",
    "\tword = values[0]\n",
    "\tcoefs = np.asarray(values[1:], dtype='float32')\n",
    "\tembeddings_index[word] = coefs\n",
    "f.close()"
   ]
  },
  {
   "cell_type": "code",
   "execution_count": 22,
   "metadata": {},
   "outputs": [
    {
     "data": {
      "text/plain": [
       "100"
      ]
     },
     "execution_count": 22,
     "metadata": {},
     "output_type": "execute_result"
    }
   ],
   "source": [
    "len(embeddings_index['tv'])"
   ]
  },
  {
   "cell_type": "code",
   "execution_count": 23,
   "metadata": {},
   "outputs": [
    {
     "data": {
      "text/plain": [
       "400000"
      ]
     },
     "execution_count": 23,
     "metadata": {},
     "output_type": "execute_result"
    }
   ],
   "source": [
    "len(embeddings_index)"
   ]
  },
  {
   "cell_type": "code",
   "execution_count": 24,
   "metadata": {},
   "outputs": [],
   "source": [
    "#embeddings_index"
   ]
  },
  {
   "cell_type": "markdown",
   "metadata": {},
   "source": [
    "Adding 1 because of reserved 0 index. Later we will reduce this zero."
   ]
  },
  {
   "cell_type": "code",
   "execution_count": 25,
   "metadata": {},
   "outputs": [
    {
     "name": "stdout",
     "output_type": "stream",
     "text": [
      "38\n"
     ]
    }
   ],
   "source": [
    "\n",
    "vocab_size = len(tokenizer.word_index) + 1\n",
    "print (vocab_size)"
   ]
  },
  {
   "cell_type": "markdown",
   "metadata": {},
   "source": [
    "create a weight matrix for words in training docs"
   ]
  },
  {
   "cell_type": "code",
   "execution_count": 26,
   "metadata": {},
   "outputs": [],
   "source": [
    "embedding_matrix = np.zeros((vocab_size, 100))\n",
    "for word, i in tokenizer.word_index.items():\n",
    "\tembedding_vector = embeddings_index.get(word)\n",
    "\tif embedding_vector is not None:\n",
    "\t\tembedding_matrix[i] = embedding_vector"
   ]
  },
  {
   "cell_type": "code",
   "execution_count": 27,
   "metadata": {},
   "outputs": [
    {
     "data": {
      "text/plain": [
       "1"
      ]
     },
     "execution_count": 27,
     "metadata": {},
     "output_type": "execute_result"
    }
   ],
   "source": [
    "tokenizer.word_index.get(\"tv\")"
   ]
  },
  {
   "cell_type": "code",
   "execution_count": 28,
   "metadata": {},
   "outputs": [
    {
     "data": {
      "text/plain": [
       "6"
      ]
     },
     "execution_count": 28,
     "metadata": {},
     "output_type": "execute_result"
    }
   ],
   "source": [
    "tokenizer.word_index.get(\"enjoy\")"
   ]
  },
  {
   "cell_type": "code",
   "execution_count": 29,
   "metadata": {},
   "outputs": [
    {
     "data": {
      "text/plain": [
       "(38, 100)"
      ]
     },
     "execution_count": 29,
     "metadata": {},
     "output_type": "execute_result"
    }
   ],
   "source": [
    "embedding_matrix.shape"
   ]
  },
  {
   "cell_type": "markdown",
   "metadata": {},
   "source": [
    "tv embedding_matrix "
   ]
  },
  {
   "cell_type": "code",
   "execution_count": 30,
   "metadata": {},
   "outputs": [
    {
     "data": {
      "text/plain": [
       "array([-1.82319999e-01, -6.51359975e-01,  2.85890013e-01, -5.84060013e-01,\n",
       "       -6.85850009e-02,  1.81869995e-02,  1.07560001e-04,  4.02649999e-01,\n",
       "        1.18539996e-01, -1.27820000e-01,  2.29809999e-01, -4.30880010e-01,\n",
       "       -6.67579994e-02,  1.75310001e-01, -1.78210009e-02, -3.04679990e-01,\n",
       "        2.58060008e-01, -3.22649986e-01,  5.87409973e-01,  1.08410001e+00,\n",
       "       -2.52739996e-01,  1.37869999e-01,  2.27320001e-01, -2.30910003e-01,\n",
       "        9.66520011e-01, -1.23489998e-01,  1.10060000e+00,  6.48649991e-01,\n",
       "       -4.40139994e-02,  3.71639997e-01,  4.49270010e-01,  1.03509998e+00,\n",
       "       -1.03119999e-01,  5.73920012e-01,  5.15359998e-01,  2.09240004e-01,\n",
       "       -4.79530007e-01, -8.22210014e-02, -2.57900000e-01, -7.89790004e-02,\n",
       "        2.98400000e-02,  3.88090014e-01, -1.12639999e+00,  3.76670003e-01,\n",
       "        2.14419998e-02, -4.48430002e-01, -7.08310008e-01, -5.22840023e-01,\n",
       "        2.40060002e-01, -5.74129999e-01, -6.85920000e-01,  3.57969999e-01,\n",
       "        4.79420006e-01,  1.05589998e+00,  2.61280000e-01, -2.49200010e+00,\n",
       "       -6.70769989e-01,  7.73289979e-01,  1.58480000e+00,  3.96340013e-01,\n",
       "        6.86570033e-02,  7.61520028e-01, -2.43129998e-01, -7.29130030e-01,\n",
       "        1.05780005e+00,  4.80080009e-01,  4.10400003e-01,  6.14209995e-02,\n",
       "       -6.28019989e-01,  1.00399995e+00,  3.82919997e-01, -1.46100000e-01,\n",
       "        5.38649976e-01,  9.77350026e-02, -4.99249995e-01,  2.08289996e-01,\n",
       "        4.90090013e-01,  4.34029996e-01, -5.40470004e-01, -1.66040003e-01,\n",
       "        3.01580012e-01, -8.96740019e-01,  6.55939996e-01, -9.30579975e-02,\n",
       "       -1.58829999e+00, -4.26409990e-01, -7.12970018e-01,  4.93070006e-01,\n",
       "        3.13100010e-01, -2.45150000e-01,  8.90810013e-01,  5.27289987e-01,\n",
       "        1.16669998e-01, -3.44220012e-01, -8.29639971e-01, -1.53449997e-01,\n",
       "        1.95189998e-01, -2.76900008e-02,  1.07340002e+00,  3.59979987e-01])"
      ]
     },
     "execution_count": 30,
     "metadata": {},
     "output_type": "execute_result"
    }
   ],
   "source": [
    "embedding_matrix[1]"
   ]
  },
  {
   "cell_type": "code",
   "execution_count": null,
   "metadata": {},
   "outputs": [],
   "source": []
  },
  {
   "cell_type": "markdown",
   "metadata": {},
   "source": [
    "In order to find similarity of words, using cosine_similarity"
   ]
  },
  {
   "cell_type": "code",
   "execution_count": 31,
   "metadata": {},
   "outputs": [],
   "source": [
    "from sklearn.metrics.pairwise import cosine_similarity\n",
    "import numpy as np"
   ]
  },
  {
   "cell_type": "code",
   "execution_count": 32,
   "metadata": {},
   "outputs": [],
   "source": [
    "sim_mat = cosine_similarity(embedding_matrix,embedding_matrix)"
   ]
  },
  {
   "cell_type": "markdown",
   "metadata": {},
   "source": [
    "similarity matrix for tv"
   ]
  },
  {
   "cell_type": "code",
   "execution_count": 33,
   "metadata": {},
   "outputs": [
    {
     "data": {
      "text/plain": [
       "array([0.        , 1.        , 0.27940192, 0.51553629, 0.29712011,\n",
       "       0.34737541, 0.36570946, 0.4260918 , 0.4686075 , 0.60545597,\n",
       "       0.33474674, 0.48850552, 0.45750282, 0.32059851, 0.69355068,\n",
       "       0.31465459, 0.42601377, 0.55194836, 0.46281192, 0.6234564 ,\n",
       "       0.20348052, 0.44817797, 0.78830825, 0.61368683, 0.36937906,\n",
       "       0.74173718, 0.32197855, 0.71559458, 0.72408647, 0.42250074,\n",
       "       0.55416704, 0.30516475, 0.57257811, 0.28748322, 0.36629492,\n",
       "       0.3838893 , 0.50037266, 0.3895824 ])"
      ]
     },
     "execution_count": 33,
     "metadata": {},
     "output_type": "execute_result"
    }
   ],
   "source": [
    "sim_mat[1]"
   ]
  },
  {
   "cell_type": "code",
   "execution_count": 34,
   "metadata": {},
   "outputs": [
    {
     "data": {
      "text/plain": [
       "array([1.        , 0.27940192, 0.51553629, 0.29712011, 0.34737541,\n",
       "       0.36570946, 0.4260918 , 0.4686075 , 0.60545597, 0.33474674,\n",
       "       0.48850552, 0.45750282, 0.32059851, 0.69355068, 0.31465459,\n",
       "       0.42601377, 0.55194836, 0.46281192, 0.6234564 , 0.20348052,\n",
       "       0.44817797, 0.78830825, 0.61368683, 0.36937906, 0.74173718,\n",
       "       0.32197855, 0.71559458, 0.72408647, 0.42250074, 0.55416704,\n",
       "       0.30516475, 0.57257811, 0.28748322, 0.36629492, 0.3838893 ,\n",
       "       0.50037266, 0.3895824 ])"
      ]
     },
     "execution_count": 34,
     "metadata": {},
     "output_type": "execute_result"
    }
   ],
   "source": [
    "#We should get rid of first item which is zero. The rest of them are similarity with \"tv\"\n",
    "sim_mat[1][1:]"
   ]
  },
  {
   "cell_type": "code",
   "execution_count": 35,
   "metadata": {},
   "outputs": [
    {
     "name": "stdout",
     "output_type": "stream",
     "text": [
      "tv 1\n",
      "risk 2\n",
      "today 3\n",
      "freedom 4\n",
      "connect 5\n",
      "enjoy 6\n",
      "pay 7\n",
      "much 8\n",
      "internet 9\n",
      "order 10\n",
      "plus 11\n",
      "really 12\n",
      "save 13\n",
      "channels 14\n",
      "basic 15\n",
      "subscription 16\n",
      "hd 17\n",
      "replay 18\n",
      "live 19\n",
      "pause 20\n",
      "recording 21\n",
      "radio 22\n",
      "stations 23\n",
      "podcasts 24\n",
      "video 25\n",
      "demand 26\n",
      "movies 27\n",
      "shows 28\n",
      "access 29\n",
      "youtube 30\n",
      "netflix 31\n",
      "sky 32\n",
      "cancel 33\n",
      "monthly 34\n",
      "cost 35\n",
      "first 36\n",
      "months 37\n"
     ]
    }
   ],
   "source": [
    "for key, value in word_index.items() :\n",
    "    print (key,value)"
   ]
  },
  {
   "cell_type": "code",
   "execution_count": null,
   "metadata": {},
   "outputs": [],
   "source": []
  },
  {
   "cell_type": "markdown",
   "metadata": {},
   "source": [
    "Create Data Frame in pandas"
   ]
  },
  {
   "cell_type": "code",
   "execution_count": 36,
   "metadata": {},
   "outputs": [],
   "source": [
    "df = pd.DataFrame.from_dict(word_index, orient='index')\n",
    "df=df.rename(columns={0: \"similarity\"})"
   ]
  },
  {
   "cell_type": "markdown",
   "metadata": {},
   "source": [
    "Now similarity values come from index numbers"
   ]
  },
  {
   "cell_type": "code",
   "execution_count": 37,
   "metadata": {},
   "outputs": [
    {
     "data": {
      "text/html": [
       "<div>\n",
       "<style scoped>\n",
       "    .dataframe tbody tr th:only-of-type {\n",
       "        vertical-align: middle;\n",
       "    }\n",
       "\n",
       "    .dataframe tbody tr th {\n",
       "        vertical-align: top;\n",
       "    }\n",
       "\n",
       "    .dataframe thead th {\n",
       "        text-align: right;\n",
       "    }\n",
       "</style>\n",
       "<table border=\"1\" class=\"dataframe\">\n",
       "  <thead>\n",
       "    <tr style=\"text-align: right;\">\n",
       "      <th></th>\n",
       "      <th>similarity</th>\n",
       "    </tr>\n",
       "  </thead>\n",
       "  <tbody>\n",
       "    <tr>\n",
       "      <th>tv</th>\n",
       "      <td>1</td>\n",
       "    </tr>\n",
       "    <tr>\n",
       "      <th>risk</th>\n",
       "      <td>2</td>\n",
       "    </tr>\n",
       "    <tr>\n",
       "      <th>today</th>\n",
       "      <td>3</td>\n",
       "    </tr>\n",
       "    <tr>\n",
       "      <th>freedom</th>\n",
       "      <td>4</td>\n",
       "    </tr>\n",
       "    <tr>\n",
       "      <th>connect</th>\n",
       "      <td>5</td>\n",
       "    </tr>\n",
       "  </tbody>\n",
       "</table>\n",
       "</div>"
      ],
      "text/plain": [
       "         similarity\n",
       "tv                1\n",
       "risk              2\n",
       "today             3\n",
       "freedom           4\n",
       "connect           5"
      ]
     },
     "execution_count": 37,
     "metadata": {},
     "output_type": "execute_result"
    }
   ],
   "source": [
    "df.head()"
   ]
  },
  {
   "cell_type": "markdown",
   "metadata": {},
   "source": [
    "implementing similarity index for tv that's index number equal to 1 "
   ]
  },
  {
   "cell_type": "code",
   "execution_count": 60,
   "metadata": {},
   "outputs": [],
   "source": [
    "df.similarity=sim_mat[1][1:]"
   ]
  },
  {
   "cell_type": "code",
   "execution_count": 61,
   "metadata": {},
   "outputs": [
    {
     "data": {
      "text/html": [
       "<div>\n",
       "<style scoped>\n",
       "    .dataframe tbody tr th:only-of-type {\n",
       "        vertical-align: middle;\n",
       "    }\n",
       "\n",
       "    .dataframe tbody tr th {\n",
       "        vertical-align: top;\n",
       "    }\n",
       "\n",
       "    .dataframe thead th {\n",
       "        text-align: right;\n",
       "    }\n",
       "</style>\n",
       "<table border=\"1\" class=\"dataframe\">\n",
       "  <thead>\n",
       "    <tr style=\"text-align: right;\">\n",
       "      <th></th>\n",
       "      <th>similarity</th>\n",
       "    </tr>\n",
       "  </thead>\n",
       "  <tbody>\n",
       "    <tr>\n",
       "      <th>tv</th>\n",
       "      <td>1.000000</td>\n",
       "    </tr>\n",
       "    <tr>\n",
       "      <th>risk</th>\n",
       "      <td>0.279402</td>\n",
       "    </tr>\n",
       "    <tr>\n",
       "      <th>today</th>\n",
       "      <td>0.515536</td>\n",
       "    </tr>\n",
       "    <tr>\n",
       "      <th>freedom</th>\n",
       "      <td>0.297120</td>\n",
       "    </tr>\n",
       "    <tr>\n",
       "      <th>connect</th>\n",
       "      <td>0.347375</td>\n",
       "    </tr>\n",
       "  </tbody>\n",
       "</table>\n",
       "</div>"
      ],
      "text/plain": [
       "         similarity\n",
       "tv         1.000000\n",
       "risk       0.279402\n",
       "today      0.515536\n",
       "freedom    0.297120\n",
       "connect    0.347375"
      ]
     },
     "execution_count": 61,
     "metadata": {},
     "output_type": "execute_result"
    }
   ],
   "source": [
    "df.head()"
   ]
  },
  {
   "cell_type": "markdown",
   "metadata": {},
   "source": [
    "top 30 similarity for tv"
   ]
  },
  {
   "cell_type": "code",
   "execution_count": 63,
   "metadata": {},
   "outputs": [
    {
     "data": {
      "text/html": [
       "<div>\n",
       "<style scoped>\n",
       "    .dataframe tbody tr th:only-of-type {\n",
       "        vertical-align: middle;\n",
       "    }\n",
       "\n",
       "    .dataframe tbody tr th {\n",
       "        vertical-align: top;\n",
       "    }\n",
       "\n",
       "    .dataframe thead th {\n",
       "        text-align: right;\n",
       "    }\n",
       "</style>\n",
       "<table border=\"1\" class=\"dataframe\">\n",
       "  <thead>\n",
       "    <tr style=\"text-align: right;\">\n",
       "      <th></th>\n",
       "      <th>similarity</th>\n",
       "    </tr>\n",
       "  </thead>\n",
       "  <tbody>\n",
       "    <tr>\n",
       "      <th>tv</th>\n",
       "      <td>1.000000</td>\n",
       "    </tr>\n",
       "    <tr>\n",
       "      <th>radio</th>\n",
       "      <td>0.788308</td>\n",
       "    </tr>\n",
       "    <tr>\n",
       "      <th>video</th>\n",
       "      <td>0.741737</td>\n",
       "    </tr>\n",
       "    <tr>\n",
       "      <th>shows</th>\n",
       "      <td>0.724086</td>\n",
       "    </tr>\n",
       "    <tr>\n",
       "      <th>movies</th>\n",
       "      <td>0.715595</td>\n",
       "    </tr>\n",
       "    <tr>\n",
       "      <th>channels</th>\n",
       "      <td>0.693551</td>\n",
       "    </tr>\n",
       "    <tr>\n",
       "      <th>live</th>\n",
       "      <td>0.623456</td>\n",
       "    </tr>\n",
       "    <tr>\n",
       "      <th>stations</th>\n",
       "      <td>0.613687</td>\n",
       "    </tr>\n",
       "    <tr>\n",
       "      <th>internet</th>\n",
       "      <td>0.605456</td>\n",
       "    </tr>\n",
       "    <tr>\n",
       "      <th>sky</th>\n",
       "      <td>0.572578</td>\n",
       "    </tr>\n",
       "    <tr>\n",
       "      <th>youtube</th>\n",
       "      <td>0.554167</td>\n",
       "    </tr>\n",
       "    <tr>\n",
       "      <th>hd</th>\n",
       "      <td>0.551948</td>\n",
       "    </tr>\n",
       "    <tr>\n",
       "      <th>today</th>\n",
       "      <td>0.515536</td>\n",
       "    </tr>\n",
       "    <tr>\n",
       "      <th>first</th>\n",
       "      <td>0.500373</td>\n",
       "    </tr>\n",
       "    <tr>\n",
       "      <th>plus</th>\n",
       "      <td>0.488506</td>\n",
       "    </tr>\n",
       "    <tr>\n",
       "      <th>much</th>\n",
       "      <td>0.468608</td>\n",
       "    </tr>\n",
       "    <tr>\n",
       "      <th>replay</th>\n",
       "      <td>0.462812</td>\n",
       "    </tr>\n",
       "    <tr>\n",
       "      <th>really</th>\n",
       "      <td>0.457503</td>\n",
       "    </tr>\n",
       "    <tr>\n",
       "      <th>recording</th>\n",
       "      <td>0.448178</td>\n",
       "    </tr>\n",
       "    <tr>\n",
       "      <th>pay</th>\n",
       "      <td>0.426092</td>\n",
       "    </tr>\n",
       "    <tr>\n",
       "      <th>subscription</th>\n",
       "      <td>0.426014</td>\n",
       "    </tr>\n",
       "    <tr>\n",
       "      <th>access</th>\n",
       "      <td>0.422501</td>\n",
       "    </tr>\n",
       "    <tr>\n",
       "      <th>months</th>\n",
       "      <td>0.389582</td>\n",
       "    </tr>\n",
       "    <tr>\n",
       "      <th>cost</th>\n",
       "      <td>0.383889</td>\n",
       "    </tr>\n",
       "    <tr>\n",
       "      <th>podcasts</th>\n",
       "      <td>0.369379</td>\n",
       "    </tr>\n",
       "    <tr>\n",
       "      <th>monthly</th>\n",
       "      <td>0.366295</td>\n",
       "    </tr>\n",
       "    <tr>\n",
       "      <th>enjoy</th>\n",
       "      <td>0.365709</td>\n",
       "    </tr>\n",
       "    <tr>\n",
       "      <th>connect</th>\n",
       "      <td>0.347375</td>\n",
       "    </tr>\n",
       "    <tr>\n",
       "      <th>order</th>\n",
       "      <td>0.334747</td>\n",
       "    </tr>\n",
       "    <tr>\n",
       "      <th>demand</th>\n",
       "      <td>0.321979</td>\n",
       "    </tr>\n",
       "  </tbody>\n",
       "</table>\n",
       "</div>"
      ],
      "text/plain": [
       "              similarity\n",
       "tv              1.000000\n",
       "radio           0.788308\n",
       "video           0.741737\n",
       "shows           0.724086\n",
       "movies          0.715595\n",
       "channels        0.693551\n",
       "live            0.623456\n",
       "stations        0.613687\n",
       "internet        0.605456\n",
       "sky             0.572578\n",
       "youtube         0.554167\n",
       "hd              0.551948\n",
       "today           0.515536\n",
       "first           0.500373\n",
       "plus            0.488506\n",
       "much            0.468608\n",
       "replay          0.462812\n",
       "really          0.457503\n",
       "recording       0.448178\n",
       "pay             0.426092\n",
       "subscription    0.426014\n",
       "access          0.422501\n",
       "months          0.389582\n",
       "cost            0.383889\n",
       "podcasts        0.369379\n",
       "monthly         0.366295\n",
       "enjoy           0.365709\n",
       "connect         0.347375\n",
       "order           0.334747\n",
       "demand          0.321979"
      ]
     },
     "execution_count": 63,
     "metadata": {},
     "output_type": "execute_result"
    }
   ],
   "source": [
    "df.sort_values('similarity', ascending = False)[:30]"
   ]
  },
  {
   "cell_type": "markdown",
   "metadata": {},
   "source": [
    "As we see above, subscription similarity is 0.426014 for tv"
   ]
  },
  {
   "cell_type": "code",
   "execution_count": 46,
   "metadata": {},
   "outputs": [],
   "source": [
    "df.similarity = sim_mat[22][1:]"
   ]
  },
  {
   "cell_type": "markdown",
   "metadata": {},
   "source": [
    "top 10 similarity for radio"
   ]
  },
  {
   "cell_type": "code",
   "execution_count": 47,
   "metadata": {},
   "outputs": [
    {
     "data": {
      "text/html": [
       "<div>\n",
       "<style scoped>\n",
       "    .dataframe tbody tr th:only-of-type {\n",
       "        vertical-align: middle;\n",
       "    }\n",
       "\n",
       "    .dataframe tbody tr th {\n",
       "        vertical-align: top;\n",
       "    }\n",
       "\n",
       "    .dataframe thead th {\n",
       "        text-align: right;\n",
       "    }\n",
       "</style>\n",
       "<table border=\"1\" class=\"dataframe\">\n",
       "  <thead>\n",
       "    <tr style=\"text-align: right;\">\n",
       "      <th></th>\n",
       "      <th>similarity</th>\n",
       "    </tr>\n",
       "  </thead>\n",
       "  <tbody>\n",
       "    <tr>\n",
       "      <th>radio</th>\n",
       "      <td>1.000000</td>\n",
       "    </tr>\n",
       "    <tr>\n",
       "      <th>tv</th>\n",
       "      <td>0.788308</td>\n",
       "    </tr>\n",
       "    <tr>\n",
       "      <th>stations</th>\n",
       "      <td>0.718944</td>\n",
       "    </tr>\n",
       "    <tr>\n",
       "      <th>channels</th>\n",
       "      <td>0.626238</td>\n",
       "    </tr>\n",
       "    <tr>\n",
       "      <th>video</th>\n",
       "      <td>0.602876</td>\n",
       "    </tr>\n",
       "    <tr>\n",
       "      <th>live</th>\n",
       "      <td>0.570291</td>\n",
       "    </tr>\n",
       "    <tr>\n",
       "      <th>shows</th>\n",
       "      <td>0.559567</td>\n",
       "    </tr>\n",
       "    <tr>\n",
       "      <th>recording</th>\n",
       "      <td>0.545348</td>\n",
       "    </tr>\n",
       "    <tr>\n",
       "      <th>internet</th>\n",
       "      <td>0.506790</td>\n",
       "    </tr>\n",
       "    <tr>\n",
       "      <th>sky</th>\n",
       "      <td>0.492584</td>\n",
       "    </tr>\n",
       "  </tbody>\n",
       "</table>\n",
       "</div>"
      ],
      "text/plain": [
       "           similarity\n",
       "radio        1.000000\n",
       "tv           0.788308\n",
       "stations     0.718944\n",
       "channels     0.626238\n",
       "video        0.602876\n",
       "live         0.570291\n",
       "shows        0.559567\n",
       "recording    0.545348\n",
       "internet     0.506790\n",
       "sky          0.492584"
      ]
     },
     "execution_count": 47,
     "metadata": {},
     "output_type": "execute_result"
    }
   ],
   "source": [
    "df.sort_values('similarity', ascending = False)[:10]"
   ]
  },
  {
   "cell_type": "markdown",
   "metadata": {},
   "source": [
    "similarity for subscription index number is 16"
   ]
  },
  {
   "cell_type": "code",
   "execution_count": 64,
   "metadata": {},
   "outputs": [],
   "source": [
    "df.similarity=sim_mat[16][1:]"
   ]
  },
  {
   "cell_type": "markdown",
   "metadata": {},
   "source": [
    "top 10 similarity for subscription"
   ]
  },
  {
   "cell_type": "code",
   "execution_count": 65,
   "metadata": {},
   "outputs": [
    {
     "data": {
      "text/html": [
       "<div>\n",
       "<style scoped>\n",
       "    .dataframe tbody tr th:only-of-type {\n",
       "        vertical-align: middle;\n",
       "    }\n",
       "\n",
       "    .dataframe tbody tr th {\n",
       "        vertical-align: top;\n",
       "    }\n",
       "\n",
       "    .dataframe thead th {\n",
       "        text-align: right;\n",
       "    }\n",
       "</style>\n",
       "<table border=\"1\" class=\"dataframe\">\n",
       "  <thead>\n",
       "    <tr style=\"text-align: right;\">\n",
       "      <th></th>\n",
       "      <th>similarity</th>\n",
       "    </tr>\n",
       "  </thead>\n",
       "  <tbody>\n",
       "    <tr>\n",
       "      <th>subscription</th>\n",
       "      <td>1.000000</td>\n",
       "    </tr>\n",
       "    <tr>\n",
       "      <th>monthly</th>\n",
       "      <td>0.621883</td>\n",
       "    </tr>\n",
       "    <tr>\n",
       "      <th>internet</th>\n",
       "      <td>0.583962</td>\n",
       "    </tr>\n",
       "    <tr>\n",
       "      <th>netflix</th>\n",
       "      <td>0.553527</td>\n",
       "    </tr>\n",
       "    <tr>\n",
       "      <th>channels</th>\n",
       "      <td>0.502108</td>\n",
       "    </tr>\n",
       "    <tr>\n",
       "      <th>pay</th>\n",
       "      <td>0.498126</td>\n",
       "    </tr>\n",
       "    <tr>\n",
       "      <th>access</th>\n",
       "      <td>0.483084</td>\n",
       "    </tr>\n",
       "    <tr>\n",
       "      <th>podcasts</th>\n",
       "      <td>0.479430</td>\n",
       "    </tr>\n",
       "    <tr>\n",
       "      <th>youtube</th>\n",
       "      <td>0.476813</td>\n",
       "    </tr>\n",
       "    <tr>\n",
       "      <th>cost</th>\n",
       "      <td>0.460982</td>\n",
       "    </tr>\n",
       "  </tbody>\n",
       "</table>\n",
       "</div>"
      ],
      "text/plain": [
       "              similarity\n",
       "subscription    1.000000\n",
       "monthly         0.621883\n",
       "internet        0.583962\n",
       "netflix         0.553527\n",
       "channels        0.502108\n",
       "pay             0.498126\n",
       "access          0.483084\n",
       "podcasts        0.479430\n",
       "youtube         0.476813\n",
       "cost            0.460982"
      ]
     },
     "execution_count": 65,
     "metadata": {},
     "output_type": "execute_result"
    }
   ],
   "source": [
    "df.sort_values('similarity', ascending = False)[:10]"
   ]
  },
  {
   "cell_type": "markdown",
   "metadata": {},
   "source": [
    "by calling word_sim function that is below, you can easily find any word similarity"
   ]
  },
  {
   "cell_type": "code",
   "execution_count": 50,
   "metadata": {},
   "outputs": [],
   "source": [
    "def word_sim(word):\n",
    "    index = tokenizer.word_index.get(word)\n",
    "    df = pd.DataFrame.from_dict(word_index, orient='index')\n",
    "    df=df.rename(columns={0: \"similarity\"})\n",
    "    df.similarity=sim_mat[index][1:]\n",
    "    df = df.sort_values('similarity', ascending = False)[:10]\n",
    "    return df"
   ]
  },
  {
   "cell_type": "markdown",
   "metadata": {},
   "source": [
    "pick a word"
   ]
  },
  {
   "cell_type": "code",
   "execution_count": 57,
   "metadata": {},
   "outputs": [
    {
     "data": {
      "text/plain": [
       "dict_keys(['tv', 'risk', 'today', 'freedom', 'connect', 'enjoy', 'pay', 'much', 'internet', 'order', 'plus', 'really', 'save', 'channels', 'basic', 'subscription', 'hd', 'replay', 'live', 'pause', 'recording', 'radio', 'stations', 'podcasts', 'video', 'demand', 'movies', 'shows', 'access', 'youtube', 'netflix', 'sky', 'cancel', 'monthly', 'cost', 'first', 'months'])"
      ]
     },
     "execution_count": 57,
     "metadata": {},
     "output_type": "execute_result"
    }
   ],
   "source": [
    "word_index.keys()"
   ]
  },
  {
   "cell_type": "markdown",
   "metadata": {},
   "source": [
    "run word_sim function within 'pay'"
   ]
  },
  {
   "cell_type": "code",
   "execution_count": 51,
   "metadata": {},
   "outputs": [
    {
     "data": {
      "text/html": [
       "<div>\n",
       "<style scoped>\n",
       "    .dataframe tbody tr th:only-of-type {\n",
       "        vertical-align: middle;\n",
       "    }\n",
       "\n",
       "    .dataframe tbody tr th {\n",
       "        vertical-align: top;\n",
       "    }\n",
       "\n",
       "    .dataframe thead th {\n",
       "        text-align: right;\n",
       "    }\n",
       "</style>\n",
       "<table border=\"1\" class=\"dataframe\">\n",
       "  <thead>\n",
       "    <tr style=\"text-align: right;\">\n",
       "      <th></th>\n",
       "      <th>similarity</th>\n",
       "    </tr>\n",
       "  </thead>\n",
       "  <tbody>\n",
       "    <tr>\n",
       "      <th>pay</th>\n",
       "      <td>1.000000</td>\n",
       "    </tr>\n",
       "    <tr>\n",
       "      <th>cost</th>\n",
       "      <td>0.769212</td>\n",
       "    </tr>\n",
       "    <tr>\n",
       "      <th>plus</th>\n",
       "      <td>0.641230</td>\n",
       "    </tr>\n",
       "    <tr>\n",
       "      <th>much</th>\n",
       "      <td>0.625675</td>\n",
       "    </tr>\n",
       "    <tr>\n",
       "      <th>save</th>\n",
       "      <td>0.582991</td>\n",
       "    </tr>\n",
       "    <tr>\n",
       "      <th>monthly</th>\n",
       "      <td>0.581118</td>\n",
       "    </tr>\n",
       "    <tr>\n",
       "      <th>months</th>\n",
       "      <td>0.571993</td>\n",
       "    </tr>\n",
       "    <tr>\n",
       "      <th>cancel</th>\n",
       "      <td>0.568468</td>\n",
       "    </tr>\n",
       "    <tr>\n",
       "      <th>order</th>\n",
       "      <td>0.567203</td>\n",
       "    </tr>\n",
       "    <tr>\n",
       "      <th>demand</th>\n",
       "      <td>0.555931</td>\n",
       "    </tr>\n",
       "  </tbody>\n",
       "</table>\n",
       "</div>"
      ],
      "text/plain": [
       "         similarity\n",
       "pay        1.000000\n",
       "cost       0.769212\n",
       "plus       0.641230\n",
       "much       0.625675\n",
       "save       0.582991\n",
       "monthly    0.581118\n",
       "months     0.571993\n",
       "cancel     0.568468\n",
       "order      0.567203\n",
       "demand     0.555931"
      ]
     },
     "execution_count": 51,
     "metadata": {},
     "output_type": "execute_result"
    }
   ],
   "source": [
    "word_sim('pay')"
   ]
  },
  {
   "cell_type": "code",
   "execution_count": 58,
   "metadata": {},
   "outputs": [
    {
     "data": {
      "text/html": [
       "<div>\n",
       "<style scoped>\n",
       "    .dataframe tbody tr th:only-of-type {\n",
       "        vertical-align: middle;\n",
       "    }\n",
       "\n",
       "    .dataframe tbody tr th {\n",
       "        vertical-align: top;\n",
       "    }\n",
       "\n",
       "    .dataframe thead th {\n",
       "        text-align: right;\n",
       "    }\n",
       "</style>\n",
       "<table border=\"1\" class=\"dataframe\">\n",
       "  <thead>\n",
       "    <tr style=\"text-align: right;\">\n",
       "      <th></th>\n",
       "      <th>similarity</th>\n",
       "    </tr>\n",
       "  </thead>\n",
       "  <tbody>\n",
       "    <tr>\n",
       "      <th>movies</th>\n",
       "      <td>1.000000</td>\n",
       "    </tr>\n",
       "    <tr>\n",
       "      <th>tv</th>\n",
       "      <td>0.715595</td>\n",
       "    </tr>\n",
       "    <tr>\n",
       "      <th>shows</th>\n",
       "      <td>0.684054</td>\n",
       "    </tr>\n",
       "    <tr>\n",
       "      <th>video</th>\n",
       "      <td>0.665285</td>\n",
       "    </tr>\n",
       "    <tr>\n",
       "      <th>live</th>\n",
       "      <td>0.582449</td>\n",
       "    </tr>\n",
       "    <tr>\n",
       "      <th>really</th>\n",
       "      <td>0.518347</td>\n",
       "    </tr>\n",
       "    <tr>\n",
       "      <th>much</th>\n",
       "      <td>0.505095</td>\n",
       "    </tr>\n",
       "    <tr>\n",
       "      <th>channels</th>\n",
       "      <td>0.502623</td>\n",
       "    </tr>\n",
       "    <tr>\n",
       "      <th>internet</th>\n",
       "      <td>0.501160</td>\n",
       "    </tr>\n",
       "    <tr>\n",
       "      <th>today</th>\n",
       "      <td>0.477755</td>\n",
       "    </tr>\n",
       "  </tbody>\n",
       "</table>\n",
       "</div>"
      ],
      "text/plain": [
       "          similarity\n",
       "movies      1.000000\n",
       "tv          0.715595\n",
       "shows       0.684054\n",
       "video       0.665285\n",
       "live        0.582449\n",
       "really      0.518347\n",
       "much        0.505095\n",
       "channels    0.502623\n",
       "internet    0.501160\n",
       "today       0.477755"
      ]
     },
     "execution_count": 58,
     "metadata": {},
     "output_type": "execute_result"
    }
   ],
   "source": [
    "word_sim('movies')"
   ]
  },
  {
   "cell_type": "code",
   "execution_count": null,
   "metadata": {},
   "outputs": [],
   "source": []
  }
 ],
 "metadata": {
  "kernelspec": {
   "display_name": "Python 3",
   "language": "python",
   "name": "python3"
  },
  "language_info": {
   "codemirror_mode": {
    "name": "ipython",
    "version": 3
   },
   "file_extension": ".py",
   "mimetype": "text/x-python",
   "name": "python",
   "nbconvert_exporter": "python",
   "pygments_lexer": "ipython3",
   "version": "3.8.5"
  }
 },
 "nbformat": 4,
 "nbformat_minor": 4
}
