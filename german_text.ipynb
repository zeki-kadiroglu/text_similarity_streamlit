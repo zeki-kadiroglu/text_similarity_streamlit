{
 "cells": [
  {
   "cell_type": "markdown",
   "metadata": {},
   "source": [
    "THIS FILE SHOULD BE RUN ON YOUR LOCAL(JUPYTER NOTEBOOK)"
   ]
  },
  {
   "cell_type": "markdown",
   "metadata": {},
   "source": [
    "Extracting all text by using selenium library"
   ]
  },
  {
   "cell_type": "code",
   "execution_count": 43,
   "metadata": {},
   "outputs": [],
   "source": [
    "#Importing packages\n",
    "from selenium import webdriver\n",
    "import pandas as pd"
   ]
  },
  {
   "cell_type": "markdown",
   "metadata": {},
   "source": [
    "You need to download chromedriver then copy-paste chromedriver.exe path to the line below"
   ]
  },
  {
   "cell_type": "code",
   "execution_count": 44,
   "metadata": {},
   "outputs": [],
   "source": [
    "driver = webdriver.Chrome(r\"C:\\Users\\MONSTER\\Desktop\\driver\\chromedriver.exe\")"
   ]
  },
  {
   "cell_type": "code",
   "execution_count": 45,
   "metadata": {},
   "outputs": [],
   "source": [
    "driver.get('https://huubsh.com/l/gibson-slash-les-paul-standard-november--3569')"
   ]
  },
  {
   "cell_type": "code",
   "execution_count": 46,
   "metadata": {},
   "outputs": [],
   "source": [
    "#//div[@class='description'] ----> xpath "
   ]
  },
  {
   "cell_type": "code",
   "execution_count": null,
   "metadata": {},
   "outputs": [],
   "source": [
    "text = driver.find_elements_by_xpath(\"//div[contains(@class,'description')]\")[0]\n",
    "all_text = text.text\n",
    "all_text"
   ]
  },
  {
   "cell_type": "markdown",
   "metadata": {},
   "source": [
    "import NLP libraries"
   ]
  },
  {
   "cell_type": "markdown",
   "metadata": {},
   "source": [
    "Spacy Modelling"
   ]
  },
  {
   "cell_type": "code",
   "execution_count": null,
   "metadata": {},
   "outputs": [],
   "source": [
    "import spacy\n",
    "import de_core_news_sm # trained german words\n",
    "nlp = de_core_news_sm.load()"
   ]
  },
  {
   "cell_type": "markdown",
   "metadata": {},
   "source": [
    "modelling our all_text"
   ]
  },
  {
   "cell_type": "code",
   "execution_count": 48,
   "metadata": {},
   "outputs": [
    {
     "data": {
      "text/plain": [
       "guitar service\n",
       "mitten in zürich bietet gitarren total dir einen professionellen und zuverlässigen reparaturservice für bässe, akustische und elektrische gitarren. ob kleiner check-up oder grosse operation: wir untersuchen deine liebste auf body und saiten – und holen klänge aus deinem instrument, die du niemals darin vermutet hättest.\n",
       "reparaturen und service: halsbruch, winterschaden oder ganz normale abnutzungserscheinungen? bünde abrichten oder neubundierung, pus wechseln, intonation oder halsstab einstellen? die ausstattung unserer werkstatt und unsere erfahrung erlauben uns alles vom einfachen service bis zur anspruchsvollen reparatur. gerne machen wir dir auch einen kostenvoranschlag.\n",
       "neubundierung\n",
       "die bespielbarkeit eines instrumentes hängt wesentlich von der qualität der neubundierung ab. wir verwandeln deine abgekämpfte lieblingsgitarre in ein makellos bespielbares instrument. auf besondere wünsche wie speziellen bunddraht, einen kompensierten griffbrettradius und andere finessen gehen wir gerne ein.\n",
       "lackierung\n",
       "lack ab? lackschäden, falsche lackwahl oder lackiertechnik sind nicht nur ein ästhetisches problem. der lack hat auch wesentlichen einfluss auf den klang. in unserer lackierwerkstatt bieten wir sämtliche lackierverfahren in hervorragender qualität – von der alten schelak(french polish)-lackierung über nitro- und dd- bis zu polyester-lackierungen. kleinere unfälle machen wir mit einer fachgerechten retouche unsichtbar.\n",
       "custom shop\n",
       "du träumst von heissen kurven? ganz normal. du träumst von heissen kurven mit saiten? dann bist du ein fall für den custom shop. wir planen und bauen dein individuelles instrument – und schrecken auch vor deinen geheimsten wünschen nicht zurück. natürlich sind wir auch für kleinere umbauten wie pu-, mechanik- oder tremolo-wechsel zu haben.\n",
       "restauration\n",
       "hat deine alte liebe ein paar risse bekommen? wir lassen dein instrument in neuem glanz erstrahlen – und erklingen! fehlt dir ein ersatzteil für dein vintage-instrument? wir beschaffen das originalteil oder finden andere wege, dem originalzustand möglichst nahe zu kommen."
      ]
     },
     "execution_count": 48,
     "metadata": {},
     "output_type": "execute_result"
    }
   ],
   "source": [
    "doc = nlp(all_text.lower())\n",
    "doc"
   ]
  },
  {
   "cell_type": "markdown",
   "metadata": {},
   "source": [
    "Word Embeddings in Spacy similarity"
   ]
  },
  {
   "cell_type": "code",
   "execution_count": 49,
   "metadata": {},
   "outputs": [],
   "source": [
    "def word_similarities(words):\n",
    "    # compute similarity\n",
    "    similarities = {}\n",
    "    for word in words:\n",
    "        tok = nlp(word)\n",
    "        similarities[tok.text] ={}\n",
    "        for tok_ in doc:\n",
    "            similarities[tok.text].update({tok_.text:tok.similarity(tok_)})\n",
    "    # sort\n",
    "    top10 = lambda x: {k: v for k, v in sorted(similarities[x].items(), key=lambda item: item[1], reverse=True)[:10]}\n",
    "    return pd.DataFrame.from_dict(top10(word),orient='index').rename(columns={0 : 'similarity'})"
   ]
  },
  {
   "cell_type": "markdown",
   "metadata": {},
   "source": [
    "call the word_simialrities function"
   ]
  },
  {
   "cell_type": "code",
   "execution_count": 50,
   "metadata": {},
   "outputs": [
    {
     "name": "stderr",
     "output_type": "stream",
     "text": [
      "<ipython-input-49-9faf32d49b71>:8: UserWarning: [W007] The model you're using has no word vectors loaded, so the result of the Doc.similarity method will be based on the tagger, parser and NER, which may not give useful similarity judgements. This may happen if you're using one of the small models, e.g. `en_core_web_sm`, which don't ship with word vectors and only use context-sensitive tensors. You can always add your own word vectors, or use one of the larger models instead if available.\n",
      "  similarities[tok.text].update({tok_.text:tok.similarity(tok_)})\n"
     ]
    },
    {
     "data": {
      "text/html": [
       "<div>\n",
       "<style scoped>\n",
       "    .dataframe tbody tr th:only-of-type {\n",
       "        vertical-align: middle;\n",
       "    }\n",
       "\n",
       "    .dataframe tbody tr th {\n",
       "        vertical-align: top;\n",
       "    }\n",
       "\n",
       "    .dataframe thead th {\n",
       "        text-align: right;\n",
       "    }\n",
       "</style>\n",
       "<table border=\"1\" class=\"dataframe\">\n",
       "  <thead>\n",
       "    <tr style=\"text-align: right;\">\n",
       "      <th></th>\n",
       "      <th>similarity</th>\n",
       "    </tr>\n",
       "  </thead>\n",
       "  <tbody>\n",
       "    <tr>\n",
       "      <th>check-up</th>\n",
       "      <td>0.511866</td>\n",
       "    </tr>\n",
       "    <tr>\n",
       "      <th>intonation</th>\n",
       "      <td>0.439774</td>\n",
       "    </tr>\n",
       "    <tr>\n",
       "      <th>guitar</th>\n",
       "      <td>0.421178</td>\n",
       "    </tr>\n",
       "    <tr>\n",
       "      <th>grosse</th>\n",
       "      <td>0.414246</td>\n",
       "    </tr>\n",
       "    <tr>\n",
       "      <th>halsbruch</th>\n",
       "      <td>0.368518</td>\n",
       "    </tr>\n",
       "    <tr>\n",
       "      <th>ob</th>\n",
       "      <td>0.363230</td>\n",
       "    </tr>\n",
       "    <tr>\n",
       "      <th>custom</th>\n",
       "      <td>0.358947</td>\n",
       "    </tr>\n",
       "    <tr>\n",
       "      <th>lack</th>\n",
       "      <td>0.351547</td>\n",
       "    </tr>\n",
       "    <tr>\n",
       "      <th>griffbrettradius</th>\n",
       "      <td>0.350235</td>\n",
       "    </tr>\n",
       "    <tr>\n",
       "      <th>operation</th>\n",
       "      <td>0.347960</td>\n",
       "    </tr>\n",
       "  </tbody>\n",
       "</table>\n",
       "</div>"
      ],
      "text/plain": [
       "                  similarity\n",
       "check-up            0.511866\n",
       "intonation          0.439774\n",
       "guitar              0.421178\n",
       "grosse              0.414246\n",
       "halsbruch           0.368518\n",
       "ob                  0.363230\n",
       "custom              0.358947\n",
       "lack                0.351547\n",
       "griffbrettradius    0.350235\n",
       "operation           0.347960"
      ]
     },
     "execution_count": 50,
     "metadata": {},
     "output_type": "execute_result"
    }
   ],
   "source": [
    "word_similarities('gittaren')"
   ]
  },
  {
   "cell_type": "code",
   "execution_count": 51,
   "metadata": {},
   "outputs": [
    {
     "name": "stderr",
     "output_type": "stream",
     "text": [
      "<ipython-input-49-9faf32d49b71>:8: UserWarning: [W007] The model you're using has no word vectors loaded, so the result of the Doc.similarity method will be based on the tagger, parser and NER, which may not give useful similarity judgements. This may happen if you're using one of the small models, e.g. `en_core_web_sm`, which don't ship with word vectors and only use context-sensitive tensors. You can always add your own word vectors, or use one of the larger models instead if available.\n",
      "  similarities[tok.text].update({tok_.text:tok.similarity(tok_)})\n"
     ]
    },
    {
     "data": {
      "text/html": [
       "<div>\n",
       "<style scoped>\n",
       "    .dataframe tbody tr th:only-of-type {\n",
       "        vertical-align: middle;\n",
       "    }\n",
       "\n",
       "    .dataframe tbody tr th {\n",
       "        vertical-align: top;\n",
       "    }\n",
       "\n",
       "    .dataframe thead th {\n",
       "        text-align: right;\n",
       "    }\n",
       "</style>\n",
       "<table border=\"1\" class=\"dataframe\">\n",
       "  <thead>\n",
       "    <tr style=\"text-align: right;\">\n",
       "      <th></th>\n",
       "      <th>similarity</th>\n",
       "    </tr>\n",
       "  </thead>\n",
       "  <tbody>\n",
       "    <tr>\n",
       "      <th>check-up</th>\n",
       "      <td>0.512057</td>\n",
       "    </tr>\n",
       "    <tr>\n",
       "      <th>intonation</th>\n",
       "      <td>0.429953</td>\n",
       "    </tr>\n",
       "    <tr>\n",
       "      <th>guitar</th>\n",
       "      <td>0.424559</td>\n",
       "    </tr>\n",
       "    <tr>\n",
       "      <th>\\n</th>\n",
       "      <td>0.400019</td>\n",
       "    </tr>\n",
       "    <tr>\n",
       "      <th>zürich</th>\n",
       "      <td>0.388929</td>\n",
       "    </tr>\n",
       "    <tr>\n",
       "      <th>pu-</th>\n",
       "      <td>0.383190</td>\n",
       "    </tr>\n",
       "    <tr>\n",
       "      <th>pus</th>\n",
       "      <td>0.381206</td>\n",
       "    </tr>\n",
       "    <tr>\n",
       "      <th>halsbruch</th>\n",
       "      <td>0.374234</td>\n",
       "    </tr>\n",
       "    <tr>\n",
       "      <th>griffbrettradius</th>\n",
       "      <td>0.370934</td>\n",
       "    </tr>\n",
       "    <tr>\n",
       "      <th>halsstab</th>\n",
       "      <td>0.369997</td>\n",
       "    </tr>\n",
       "  </tbody>\n",
       "</table>\n",
       "</div>"
      ],
      "text/plain": [
       "                  similarity\n",
       "check-up            0.512057\n",
       "intonation          0.429953\n",
       "guitar              0.424559\n",
       "\\n                  0.400019\n",
       "zürich              0.388929\n",
       "pu-                 0.383190\n",
       "pus                 0.381206\n",
       "halsbruch           0.374234\n",
       "griffbrettradius    0.370934\n",
       "halsstab            0.369997"
      ]
     },
     "execution_count": 51,
     "metadata": {},
     "output_type": "execute_result"
    }
   ],
   "source": [
    "word_similarities('lackiertechnik')"
   ]
  },
  {
   "cell_type": "code",
   "execution_count": null,
   "metadata": {},
   "outputs": [],
   "source": []
  }
 ],
 "metadata": {
  "kernelspec": {
   "display_name": "Python 3",
   "language": "python",
   "name": "python3"
  },
  "language_info": {
   "codemirror_mode": {
    "name": "ipython",
    "version": 3
   },
   "file_extension": ".py",
   "mimetype": "text/x-python",
   "name": "python",
   "nbconvert_exporter": "python",
   "pygments_lexer": "ipython3",
   "version": "3.8.5"
  }
 },
 "nbformat": 4,
 "nbformat_minor": 4
}
